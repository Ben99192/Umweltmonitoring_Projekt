{
 "cells": [
  {
   "cell_type": "code",
   "execution_count": 2,
   "metadata": {},
   "outputs": [],
   "source": [
    "import dash\n",
    "\n",
    "from dash import dcc, html\n",
    "from dash.dependencies import Input, Output\n",
    "import plotly.express as px\n",
    "import pandas as pd\n",
    "import matplotlib.pyplot as plt\n",
    "import psycopg2\n",
    "\n",
    "from dotenv import load_dotenv\n",
    "import os"
   ]
  },
  {
   "cell_type": "code",
   "execution_count": 3,
   "metadata": {},
   "outputs": [],
   "source": [
    "load_dotenv()\n",
    "\n",
    "host = os.getenv('HOST')\n",
    "port = os.getenv('PORT')\n",
    "user = os.getenv('USER')\n",
    "password = os.getenv('PASSWORD')\n",
    "database= os.getenv('DATABASE')"
   ]
  },
  {
   "cell_type": "code",
   "execution_count": 5,
   "metadata": {},
   "outputs": [
    {
     "name": "stdout",
     "output_type": "stream",
     "text": [
      "Verbindung zur Datenbank erfolgreich hergestellt.\n"
     ]
    }
   ],
   "source": [
    "connection = psycopg2.connect(host=host, port=port, database=database, user=user, password=password)\n",
    "print(\"Verbindung zur Datenbank erfolgreich hergestellt.\")\n",
    "\n",
    "# Einen Cursor erstellen, um SQL-Abfragen auszuführen\n",
    "cursor = connection.cursor()\n",
    "\n",
    "# SQL SELECT-Abfrage für die Stationen\n",
    "select_value_query = \"\"\"\n",
    "    SELECT v.*, b.ort\n",
    "    FROM value v\n",
    "    JOIN box_id b ON v.senseid_fk = b.senseid;\n",
    "\"\"\"\n",
    "cursor.execute(select_value_query)\n",
    "values = cursor.fetchall()\n",
    "\n",
    "df = pd.DataFrame(values, columns=[desc[0] for desc in cursor.description])"
   ]
  },
  {
   "cell_type": "code",
   "execution_count": 20,
   "metadata": {},
   "outputs": [],
   "source": [
    "stations = df['ort'].unique()\n",
    "stations_options = [{'label': 'Alle Stationen', 'value': 'all'}] + [{'label': station, 'value': station} for station in stations]"
   ]
  },
  {
   "cell_type": "code",
   "execution_count": 12,
   "metadata": {},
   "outputs": [],
   "source": [
    "#Nur für tests benutzten, falls Datenbank nicht verfügbar ist\n",
    "df = pd.read_csv(\"valueDaten.csv\")\n",
    "df['time'] = pd.to_datetime(df['time'],format='mixed')"
   ]
  },
  {
   "cell_type": "code",
   "execution_count": 7,
   "metadata": {},
   "outputs": [],
   "source": [
    "df['date'] = df['time'].dt.date"
   ]
  },
  {
   "cell_type": "code",
   "execution_count": 16,
   "metadata": {},
   "outputs": [
    {
     "data": {
      "text/plain": [
       "array(['Dortmund', 'Mersch', 'Ettlingen', 'Hamburg', 'Stuttgart',\n",
       "       'München', 'Berlin', 'Jena'], dtype=object)"
      ]
     },
     "execution_count": 16,
     "metadata": {},
     "output_type": "execute_result"
    }
   ],
   "source": [
    "stations"
   ]
  },
  {
   "cell_type": "code",
   "execution_count": 9,
   "metadata": {},
   "outputs": [],
   "source": [
    "df_agg = df[[\"index\",\"date\",\"temperature\",\"luftfeuchtigkeit\",\"pm2_5\",\"pm10\"]]"
   ]
  },
  {
   "cell_type": "code",
   "execution_count": 10,
   "metadata": {},
   "outputs": [],
   "source": [
    "daily_avg_df = df_agg.groupby('date').mean().reset_index()"
   ]
  },
  {
   "cell_type": "code",
   "execution_count": 13,
   "metadata": {},
   "outputs": [
    {
     "data": {
      "text/html": [
       "<div>\n",
       "<style scoped>\n",
       "    .dataframe tbody tr th:only-of-type {\n",
       "        vertical-align: middle;\n",
       "    }\n",
       "\n",
       "    .dataframe tbody tr th {\n",
       "        vertical-align: top;\n",
       "    }\n",
       "\n",
       "    .dataframe thead th {\n",
       "        text-align: right;\n",
       "    }\n",
       "</style>\n",
       "<table border=\"1\" class=\"dataframe\">\n",
       "  <thead>\n",
       "    <tr style=\"text-align: right;\">\n",
       "      <th></th>\n",
       "      <th>date</th>\n",
       "      <th>index</th>\n",
       "      <th>temperature</th>\n",
       "      <th>luftfeuchtigkeit</th>\n",
       "      <th>pm2_5</th>\n",
       "      <th>pm10</th>\n",
       "    </tr>\n",
       "  </thead>\n",
       "  <tbody>\n",
       "    <tr>\n",
       "      <th>0</th>\n",
       "      <td>2022-04-07</td>\n",
       "      <td>1.216997e+06</td>\n",
       "      <td>13.125532</td>\n",
       "      <td>77.317901</td>\n",
       "      <td>0.786357</td>\n",
       "      <td>2.414228</td>\n",
       "    </tr>\n",
       "    <tr>\n",
       "      <th>1</th>\n",
       "      <td>2022-04-08</td>\n",
       "      <td>1.216547e+06</td>\n",
       "      <td>8.524660</td>\n",
       "      <td>83.127407</td>\n",
       "      <td>1.811914</td>\n",
       "      <td>4.149907</td>\n",
       "    </tr>\n",
       "    <tr>\n",
       "      <th>2</th>\n",
       "      <td>2022-04-09</td>\n",
       "      <td>1.216396e+06</td>\n",
       "      <td>8.136848</td>\n",
       "      <td>80.464242</td>\n",
       "      <td>3.160295</td>\n",
       "      <td>5.832356</td>\n",
       "    </tr>\n",
       "    <tr>\n",
       "      <th>3</th>\n",
       "      <td>2022-04-10</td>\n",
       "      <td>1.215659e+06</td>\n",
       "      <td>8.463058</td>\n",
       "      <td>75.954083</td>\n",
       "      <td>2.720927</td>\n",
       "      <td>4.529338</td>\n",
       "    </tr>\n",
       "    <tr>\n",
       "      <th>4</th>\n",
       "      <td>2022-04-11</td>\n",
       "      <td>1.215233e+06</td>\n",
       "      <td>11.867487</td>\n",
       "      <td>63.463709</td>\n",
       "      <td>2.251815</td>\n",
       "      <td>3.838562</td>\n",
       "    </tr>\n",
       "  </tbody>\n",
       "</table>\n",
       "</div>"
      ],
      "text/plain": [
       "         date         index  temperature  luftfeuchtigkeit     pm2_5      pm10\n",
       "0  2022-04-07  1.216997e+06    13.125532         77.317901  0.786357  2.414228\n",
       "1  2022-04-08  1.216547e+06     8.524660         83.127407  1.811914  4.149907\n",
       "2  2022-04-09  1.216396e+06     8.136848         80.464242  3.160295  5.832356\n",
       "3  2022-04-10  1.215659e+06     8.463058         75.954083  2.720927  4.529338\n",
       "4  2022-04-11  1.215233e+06    11.867487         63.463709  2.251815  3.838562"
      ]
     },
     "execution_count": 13,
     "metadata": {},
     "output_type": "execute_result"
    }
   ],
   "source": [
    "daily_avg_df.head()"
   ]
  },
  {
   "cell_type": "code",
   "execution_count": 24,
   "metadata": {},
   "outputs": [
    {
     "data": {
      "text/html": [
       "\n",
       "        <iframe\n",
       "            width=\"100%\"\n",
       "            height=\"650\"\n",
       "            src=\"http://127.0.0.1:8050/\"\n",
       "            frameborder=\"0\"\n",
       "            allowfullscreen\n",
       "            \n",
       "        ></iframe>\n",
       "        "
      ],
      "text/plain": [
       "<IPython.lib.display.IFrame at 0x1de92b39c90>"
      ]
     },
     "metadata": {},
     "output_type": "display_data"
    },
    {
     "name": "stdout",
     "output_type": "stream",
     "text": [
      "\u001b[1;31m---------------------------------------------------------------------------\u001b[0m\n",
      "\u001b[1;31mKeyError\u001b[0m                                  Traceback (most recent call last)\n",
      "File \u001b[1;32mc:\\Users\\Benjamin\\anaconda3\\Lib\\site-packages\\pandas\\core\\indexes\\base.py:3791\u001b[0m, in \u001b[0;36mIndex.get_loc\u001b[1;34m(\n",
      "    self=Index(['index', 'time', 'temperature', 'luftfeuc...enseid_fk', 'ort', 'date'],\n",
      "      dtype='object'),\n",
      "    key='station_name'\n",
      ")\u001b[0m\n",
      "\u001b[0;32m   3790\u001b[0m \u001b[38;5;28;01mtry\u001b[39;00m:\n",
      "\u001b[1;32m-> 3791\u001b[0m     \u001b[38;5;28;01mreturn\u001b[39;00m \u001b[38;5;28mself\u001b[39m\u001b[38;5;241m.\u001b[39m_engine\u001b[38;5;241m.\u001b[39mget_loc(casted_key)\n",
      "        casted_key \u001b[1;34m= 'station_name'\u001b[0m\u001b[1;34m\n",
      "        \u001b[0mself \u001b[1;34m= Index(['index', 'time', 'temperature', 'luftfeuchtigkeit', 'pm10', 'pm2_5',\n",
      "       'senseid_fk', 'ort', 'date'],\n",
      "      dtype='object')\u001b[0m\n",
      "\u001b[0;32m   3792\u001b[0m \u001b[38;5;28;01mexcept\u001b[39;00m \u001b[38;5;167;01mKeyError\u001b[39;00m \u001b[38;5;28;01mas\u001b[39;00m err:\n",
      "\n",
      "File \u001b[1;32mindex.pyx:152\u001b[0m, in \u001b[0;36mpandas._libs.index.IndexEngine.get_loc\u001b[1;34m()\u001b[0m\n",
      "\n",
      "File \u001b[1;32mindex.pyx:181\u001b[0m, in \u001b[0;36mpandas._libs.index.IndexEngine.get_loc\u001b[1;34m()\u001b[0m\n",
      "\n",
      "File \u001b[1;32mpandas\\_libs\\hashtable_class_helper.pxi:7080\u001b[0m, in \u001b[0;36mpandas._libs.hashtable.PyObjectHashTable.get_item\u001b[1;34m()\u001b[0m\n",
      "\n",
      "File \u001b[1;32mpandas\\_libs\\hashtable_class_helper.pxi:7088\u001b[0m, in \u001b[0;36mpandas._libs.hashtable.PyObjectHashTable.get_item\u001b[1;34m()\u001b[0m\n",
      "\n",
      "\u001b[1;31mKeyError\u001b[0m: 'station_name'\n",
      "\n",
      "The above exception was the direct cause of the following exception:\n",
      "\n",
      "\u001b[1;31mKeyError\u001b[0m                                  Traceback (most recent call last)\n",
      "\u001b[1;31mKeyError\u001b[0m: 'station_name'\n",
      "\n",
      "\u001b[1;31m---------------------------------------------------------------------------\u001b[0m\n",
      "\u001b[1;31mKeyError\u001b[0m                                  Traceback (most recent call last)\n",
      "File \u001b[1;32mc:\\Users\\Benjamin\\anaconda3\\Lib\\site-packages\\pandas\\core\\indexes\\base.py:3791\u001b[0m, in \u001b[0;36mIndex.get_loc\u001b[1;34m(\n",
      "    self=Index(['index', 'time', 'temperature', 'luftfeuc...enseid_fk', 'ort', 'date'],\n",
      "      dtype='object'),\n",
      "    key='station_name'\n",
      ")\u001b[0m\n",
      "\u001b[0;32m   3790\u001b[0m \u001b[38;5;28;01mtry\u001b[39;00m:\n",
      "\u001b[1;32m-> 3791\u001b[0m     \u001b[38;5;28;01mreturn\u001b[39;00m \u001b[38;5;28mself\u001b[39m\u001b[38;5;241m.\u001b[39m_engine\u001b[38;5;241m.\u001b[39mget_loc(casted_key)\n",
      "        casted_key \u001b[1;34m= 'station_name'\u001b[0m\u001b[1;34m\n",
      "        \u001b[0mself \u001b[1;34m= Index(['index', 'time', 'temperature', 'luftfeuchtigkeit', 'pm10', 'pm2_5',\n",
      "       'senseid_fk', 'ort', 'date'],\n",
      "      dtype='object')\u001b[0m\n",
      "\u001b[0;32m   3792\u001b[0m \u001b[38;5;28;01mexcept\u001b[39;00m \u001b[38;5;167;01mKeyError\u001b[39;00m \u001b[38;5;28;01mas\u001b[39;00m err:\n",
      "\n",
      "File \u001b[1;32mindex.pyx:152\u001b[0m, in \u001b[0;36mpandas._libs.index.IndexEngine.get_loc\u001b[1;34m()\u001b[0m\n",
      "\n",
      "File \u001b[1;32mindex.pyx:181\u001b[0m, in \u001b[0;36mpandas._libs.index.IndexEngine.get_loc\u001b[1;34m()\u001b[0m\n",
      "\n",
      "File \u001b[1;32mpandas\\_libs\\hashtable_class_helper.pxi:7080\u001b[0m, in \u001b[0;36mpandas._libs.hashtable.PyObjectHashTable.get_item\u001b[1;34m()\u001b[0m\n",
      "\n",
      "File \u001b[1;32mpandas\\_libs\\hashtable_class_helper.pxi:7088\u001b[0m, in \u001b[0;36mpandas._libs.hashtable.PyObjectHashTable.get_item\u001b[1;34m()\u001b[0m\n",
      "\n",
      "\u001b[1;31mKeyError\u001b[0m: 'station_name'\n",
      "\n",
      "The above exception was the direct cause of the following exception:\n",
      "\n",
      "\u001b[1;31mKeyError\u001b[0m                                  Traceback (most recent call last)\n",
      "\u001b[1;31mKeyError\u001b[0m: 'station_name'\n",
      "\n"
     ]
    }
   ],
   "source": [
    "# Dash-App initialisieren\n",
    "app = dash.Dash(__name__)\n",
    "\n",
    "# Layout der Dash-App definieren\n",
    "app.layout = html.Div(children=[\n",
    "    html.H1(\n",
    "        children='Umweltüberwachung Dashboard',\n",
    "        style={'background-color': 'white'}\n",
    "    ),\n",
    "\n",
    "    html.Div(\n",
    "        children='Wählen Sie eine Station und eine Kennzahl aus, um die Daten anzuzeigen.',\n",
    "        style={'background-color': 'white'}\n",
    "    ),\n",
    "\n",
    "    dcc.Dropdown(\n",
    "        id='station-dropdown',\n",
    "        options=stations_options,\n",
    "        value='all'\n",
    "    ),\n",
    "\n",
    "    html.Div(\n",
    "        children='Wählen Sie eine Kennzahl:',\n",
    "        style={'background-color': 'white', 'marginTop': 20}\n",
    "    ),\n",
    "    \n",
    "    dcc.RadioItems(\n",
    "        id='metric-radio',\n",
    "        options=[\n",
    "            {'label': 'Durchschnitt', 'value': 'mean'},\n",
    "            {'label': 'Median', 'value': 'median'},\n",
    "            {'label': 'Varianz', 'value': 'var'},\n",
    "            {'label': 'Standardabweichung', 'value': 'std'}\n",
    "        ],\n",
    "        value='mean',\n",
    "        labelStyle={'display': 'inline-block', 'marginRight': 10,\"background-color\" : \"white\"}\n",
    "    ),\n",
    "\n",
    "    dcc.Graph(id='daily-temperature-graph'),\n",
    "    dcc.Graph(id='daily-luftfeuchtigkeit-graph'),\n",
    "    dcc.Graph(id='daily-pm-graph')\n",
    "])\n",
    "\n",
    "# Callback zur Aktualisierung der Diagramme\n",
    "@app.callback(\n",
    "    [Output('daily-temperature-graph', 'figure'),\n",
    "     Output('daily-luftfeuchtigkeit-graph', 'figure'),\n",
    "     Output('daily-pm-graph', 'figure')],\n",
    "    [Input('station-dropdown', 'value'),\n",
    "     Input('metric-radio', 'value')]\n",
    ")\n",
    "def update_graphs(selected_station, selected_metric):\n",
    "    # Filtere den DataFrame nach der ausgewählten Station\n",
    "    if selected_station != 'all':\n",
    "        filtered_df = df[df['station_name'] == selected_station]\n",
    "    else:\n",
    "        filtered_df = df.copy()\n",
    "\n",
    "    # Erstelle eine neue Spalte für das Datum (ohne Uhrzeit)\n",
    "    filtered_df['date'] = filtered_df['time'].dt.date\n",
    "\n",
    "    # Bereinige den DataFrame von NaN-Werten\n",
    "    filtered_df = filtered_df.dropna(subset=['temperature', 'luftfeuchtigkeit', 'pm2_5', 'pm10'])\n",
    "\n",
    "    # Berechne die täglichen Kennzahlen\n",
    "    daily_df = filtered_df.groupby('date').agg({\n",
    "        'temperature': selected_metric,\n",
    "        'luftfeuchtigkeit': selected_metric,\n",
    "        'pm2_5': selected_metric,\n",
    "        'pm10': selected_metric\n",
    "    }).reset_index()\n",
    "\n",
    "    # Erstelle Diagramme\n",
    "    temp_fig = px.line(daily_df, x='date', y='temperature', title=f'Tägliche {selected_metric.capitalize()} Temperatur')\n",
    "    humidity_fig = px.line(daily_df, x='date', y='luftfeuchtigkeit', title=f'Tägliche {selected_metric.capitalize()} Luftfeuchtigkeit')\n",
    "    pm_fig = px.line(daily_df, x='date', y=['pm2_5', 'pm10'], title=f'Tägliche {selected_metric.capitalize()} PM2.5 und PM10')\n",
    "\n",
    "    return temp_fig, humidity_fig, pm_fig\n",
    "\n",
    "# App ausführen\n",
    "if __name__ == '__main__':\n",
    "    app.run_server(debug=True, host='127.0.0.1', port=8050)"
   ]
  }
 ],
 "metadata": {
  "kernelspec": {
   "display_name": "base",
   "language": "python",
   "name": "python3"
  },
  "language_info": {
   "codemirror_mode": {
    "name": "ipython",
    "version": 3
   },
   "file_extension": ".py",
   "mimetype": "text/x-python",
   "name": "python",
   "nbconvert_exporter": "python",
   "pygments_lexer": "ipython3",
   "version": "3.11.7"
  }
 },
 "nbformat": 4,
 "nbformat_minor": 2
}
