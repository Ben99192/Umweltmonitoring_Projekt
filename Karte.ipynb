{
 "cells": [
  {
   "cell_type": "code",
   "execution_count": 4,
   "metadata": {},
   "outputs": [],
   "source": [
    "from dotenv import load_dotenv\n",
    "import os\n",
    "\n"
   ]
  },
  {
   "cell_type": "code",
   "execution_count": 5,
   "metadata": {},
   "outputs": [],
   "source": [
    "load_dotenv()\n",
    "\n",
    "host = os.getenv('HOST')\n",
    "port = os.getenv('PORT')\n",
    "user = os.getenv('USER')\n",
    "password = os.getenv('PASSWORD')\n",
    "database= os.getenv('DATABASE')"
   ]
  },
  {
   "cell_type": "code",
   "execution_count": 6,
   "metadata": {},
   "outputs": [
    {
     "name": "stdout",
     "output_type": "stream",
     "text": [
      "Verbindung zur Datenbank erfolgreich hergestellt.\n"
     ]
    }
   ],
   "source": [
    "import pandas as pd\n",
    "import folium \n",
    "import psycopg2\n",
    "from folium.plugins import MarkerCluster\n",
    "import requests\n",
    "import json\n",
    "connection = psycopg2.connect(host=host, port=port, database=database, user=user, password=password)\n",
    "print(\"Verbindung zur Datenbank erfolgreich hergestellt.\")\n",
    "\n",
    "# Einen Cursor erstellen, um SQL-Abfragen auszuführen\n",
    "cursor = connection.cursor()\n",
    "\n",
    "# SQL SELECT-Abfrage\n",
    "select_query = \"\"\"\n",
    "    SELECT *\n",
    "    FROM (\n",
    "        SELECT *, ROW_NUMBER() OVER (PARTITION BY senseid_fk ORDER BY time DESC) AS r\n",
    "        FROM value\n",
    "    ) sub\n",
    "    WHERE r <= 4;\n",
    "\"\"\"\n",
    "\n",
    "# Abfrage ausführen\n",
    "cursor.execute(select_query)\n",
    "\n",
    "# Ergebnis abrufen\n",
    "rows = cursor.fetchall()\n",
    "\n",
    "# Ergebnis in ein Pandas DataFrame umwandeln\n",
    "df = pd.DataFrame(rows, columns=[desc[0] for desc in cursor.description])\n",
    "\n",
    "# Cursor und Verbindung schließen\n",
    "cursor.close()\n",
    "connection.close()\n"
   ]
  },
  {
   "cell_type": "code",
   "execution_count": 7,
   "metadata": {},
   "outputs": [
    {
     "name": "stderr",
     "output_type": "stream",
     "text": [
      "C:\\Users\\Benjamin\\AppData\\Local\\Temp\\ipykernel_3632\\306686329.py:3: FutureWarning: Passing literal json to 'read_json' is deprecated and will be removed in a future version. To read from a literal string, wrap it in a 'StringIO' object.\n",
      "  df_latest = pd.read_json(json.dumps(response.json()))\n"
     ]
    },
    {
     "name": "stdout",
     "output_type": "stream",
     "text": [
      "Verbindung zur Datenbank erfolgreich hergestellt.\n"
     ]
    }
   ],
   "source": [
    "\n",
    "\n",
    "\n",
    "\n",
    "# Load the data from the API\n",
    "response = requests.get(\"https://us-central1-skillful-coast-423214-a6.cloudfunctions.net/lastEntries\")\n",
    "df_latest = pd.read_json(json.dumps(response.json()))\n",
    "\n",
    "# Rename and clean up DataFrame columns\n",
    "df_latest.columns = [\"index\", \"time\", \"temperature\", \"luftfeuchtigkeit\", \"pm10\", \"pm2.5\", \"senseidfk\", \"r\"]\n",
    "df_latest.drop(columns=\"r\", inplace=True)\n",
    "\n",
    "# Connect to the PostgreSQL database to get station info\n",
    "connection = psycopg2.connect(host=host, port=port, database=database, user=user, password=password)\n",
    "print(\"Verbindung zur Datenbank erfolgreich hergestellt.\")\n",
    "\n",
    "# Create a cursor to execute SQL queries\n",
    "cursor = connection.cursor()\n",
    "\n",
    "# SQL SELECT query to get stations\n",
    "select_stations_query = \"SELECT ort, lat, lon, senseid FROM box_id;\"\n",
    "cursor.execute(select_stations_query)\n",
    "stations = cursor.fetchall()\n",
    "\n",
    "# Initialize the map centered on Germany\n",
    "map_deutschland = folium.Map(location=[51.1657, 10.4515], zoom_start=6)\n",
    "\n",
    "# Create a Marker Cluster\n",
    "marker_cluster = MarkerCluster().add_to(map_deutschland)\n",
    "\n",
    "# Add weather stations to the map\n",
    "for station in stations:\n",
    "    ort, lat, lon, senseid = station\n",
    "    # Filter the DataFrame for the current station\n",
    "    station_data = df_latest[df_latest['senseidfk'] == senseid]\n",
    "    \n",
    "    # Create a popup with the station's current data\n",
    "    if not station_data.empty:\n",
    "        latest_data = station_data.iloc[-1]\n",
    "        popup_text = (\n",
    "            f\"Station: {ort}<br>\"\n",
    "            f\"Time: {latest_data['time']}<br>\"\n",
    "            f\"Temperature: {latest_data['temperature']} °C<br>\"\n",
    "            f\"Luftfeuchtigkeit: {latest_data['luftfeuchtigkeit']} %<br>\"\n",
    "            f\"PM10: {latest_data['pm10']} µg/m³<br>\"\n",
    "            f\"PM2.5: {latest_data['pm2.5']} µg/m³\"\n",
    "        )\n",
    "    else:\n",
    "        popup_text = f\"Station: {ort}<br>No data available.\"\n",
    "    \n",
    "    folium.Marker(\n",
    "        location=[lat, lon],\n",
    "        popup=popup_text\n",
    "    ).add_to(marker_cluster)\n",
    "\n",
    "# Display the map\n",
    "map_deutschland.save('map_deutschland.html')\n",
    "\n",
    "\n",
    "\n",
    "connection.close()"
   ]
  },
  {
   "cell_type": "code",
   "execution_count": null,
   "metadata": {},
   "outputs": [],
   "source": []
  }
 ],
 "metadata": {
  "kernelspec": {
   "display_name": "base",
   "language": "python",
   "name": "python3"
  },
  "language_info": {
   "codemirror_mode": {
    "name": "ipython",
    "version": 3
   },
   "file_extension": ".py",
   "mimetype": "text/x-python",
   "name": "python",
   "nbconvert_exporter": "python",
   "pygments_lexer": "ipython3",
   "version": "3.11.7"
  }
 },
 "nbformat": 4,
 "nbformat_minor": 2
}
