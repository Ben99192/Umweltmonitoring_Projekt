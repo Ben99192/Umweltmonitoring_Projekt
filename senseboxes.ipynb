{
 "cells": [
  {
   "cell_type": "code",
   "execution_count": 2,
   "metadata": {},
   "outputs": [],
   "source": [
    "import requests\n",
    "import time\n",
    "import pandas as pd\n",
    "from sqlalchemy import create_engine"
   ]
  },
  {
   "cell_type": "code",
   "execution_count": null,
   "metadata": {},
   "outputs": [],
   "source": [
    "host = \"\"\n",
    "port = \"\"\n",
    "user = \"\"\n",
    "password = \"\"\n",
    "database= \"\""
   ]
  },
  {
   "cell_type": "code",
   "execution_count": 28,
   "metadata": {},
   "outputs": [
    {
     "data": {
      "text/plain": [
       "{'_id': '590e0b0a51d3460011c725c4',\n",
       " 'createdAt': '2022-03-30T11:25:43.281Z',\n",
       " 'updatedAt': '2024-05-13T14:50:27.345Z',\n",
       " 'name': 'Hafencity - Am Standtorkai/Osakaallee',\n",
       " 'exposure': 'outdoor',\n",
       " 'model': 'luftdaten_sds011',\n",
       " 'sensors': [{'title': 'PM10',\n",
       "   'unit': 'µg/m³',\n",
       "   'sensorType': 'SDS 011',\n",
       "   'icon': 'osem-cloud',\n",
       "   '_id': '590e0b0a51d3460011c725c5',\n",
       "   'lastMeasurement': {'createdAt': '2024-05-13T14:50:27.338Z',\n",
       "    'value': '2.37'}},\n",
       "  {'title': 'PM2.5',\n",
       "   'unit': 'µg/m³',\n",
       "   'sensorType': 'SDS 011',\n",
       "   'icon': 'osem-cloud',\n",
       "   '_id': '590e0b0a51d3460011c725c6',\n",
       "   'lastMeasurement': {'createdAt': '2024-05-13T14:50:27.338Z',\n",
       "    'value': '2.03'}},\n",
       "  {'_id': '592469ca51d34600119bf21f',\n",
       "   'icon': 'osem-thermometer',\n",
       "   'sensorType': 'DHT22',\n",
       "   'unit': '°C',\n",
       "   'title': 'Temperatur',\n",
       "   'lastMeasurement': {'createdAt': '2024-05-13T14:50:27.338Z',\n",
       "    'value': '35.60'}},\n",
       "  {'_id': '592469ca51d34600119bf220',\n",
       "   'icon': 'osem-humidity',\n",
       "   'sensorType': 'DHT22',\n",
       "   'unit': '%',\n",
       "   'title': 'rel. Luftfeuchte',\n",
       "   'lastMeasurement': {'createdAt': '2024-05-13T14:50:27.338Z',\n",
       "    'value': '40.60'}}],\n",
       " 'description': 'Kreuzung von zwei größeren Straßen. Im Hafengebiet.',\n",
       " 'currentLocation': {'coordinates': [9.997499, 53.544046],\n",
       "  'type': 'Point',\n",
       "  'timestamp': '2017-05-06T17:42:34.000Z'},\n",
       " 'lastMeasurementAt': '2024-05-13T14:50:27.338Z',\n",
       " 'grouptag': [''],\n",
       " 'loc': [{'geometry': {'coordinates': [9.997499, 53.544046],\n",
       "    'type': 'Point',\n",
       "    'timestamp': '2017-05-06T17:42:34.000Z'},\n",
       "   'type': 'Feature'}]}"
      ]
     },
     "execution_count": 28,
     "metadata": {},
     "output_type": "execute_result"
    }
   ],
   "source": [
    "response = requests.get(f'https://api.opensensemap.org/boxes/590e0b0a51d3460011c725c4?format=json')\n",
    "response = response.json()\n",
    "response"
   ]
  },
  {
   "cell_type": "code",
   "execution_count": 3,
   "metadata": {},
   "outputs": [],
   "source": [
    "boxes_dic = {\n",
    "    \"Mersch Luxembourg\" : \"5ae4a726223bd80019a367a6\",\n",
    "    \"Ettlingen, Deutschland\" : \"5dde9523ba7944001da4150e\",\n",
    "    \"Stuttgart Deutschland\" : \"5c08379b1c28f9001a3f580c\",\n",
    "    \"München Deutschland\" : \"5b4d11485dc1ec001b5452c7\",\n",
    "    \"Berlin Deutschland\" : \"65e8d93acbf5700007f920ca\",\n",
    "    \"Hamburg Deutschland\" : \"590e0b0a51d3460011c725c4\",\n",
    "    \"Dortmund Deutschland\" : \"605f498077a88b001bba3dc0\",\n",
    "    \"Jena Deutschland\" : \"64722d1c9be0580007f776d9\"\n",
    "}"
   ]
  },
  {
   "cell_type": "code",
   "execution_count": 15,
   "metadata": {},
   "outputs": [],
   "source": [
    "# Erstelle ein leeres DataFrame mit Spaltennamen\n",
    "df = pd.DataFrame(columns=[\"Box ID\", \"Temperature\",\"Time\"])"
   ]
  },
  {
   "cell_type": "code",
   "execution_count": null,
   "metadata": {},
   "outputs": [],
   "source": [
    "new_data = []  # Eine leere Liste, um neue Daten zu sammeln\n",
    "for box_id, box_value in boxes_dic.items():\n",
    "    response = requests.get(f'https://api.opensensemap.org/boxes/{box_value}?format=json')\n",
    "    box = response.json() \n",
    "    temperature_value = None\n",
    "\n",
    "        # Traverse durch die 'sensors' Liste\n",
    "    for sensor in box.get('sensors', []):\n",
    "    # Überprüfe, ob der Sensor für Temperatur ist\n",
    "        if sensor.get('title') == 'Temperatur':\n",
    "           # Zugriff auf den Temperaturwert\n",
    "            temperature_value = sensor.get('lastMeasurement', {}).get('value')\n",
    "            break  # Verlasse die Schleife, sobald die Temperatur gefunden ist\n",
    "        \n",
    "    # Füge neue Daten zur Liste hinzu\n",
    "    new_data.append({\"Box ID\": box_id, \"Temperature\": temperature_value, \"Time\": time.strftime(\"%Y-%m-%d %H:%M:%S\")})\n",
    "    \n",
    "    # Konvertiere die neue Datenliste in ein DataFrame\n",
    "new_df = pd.DataFrame(new_data)\n",
    "    \n",
    "    # Hänge das neue DataFrame an das bestehende DataFrame an\n",
    "df = pd.concat([df, new_df], ignore_index=True)\n",
    "    \n",
    "    # Drucke oder verwende das DataFrame\n",
    "print(df)\n"
   ]
  },
  {
   "cell_type": "code",
   "execution_count": 18,
   "metadata": {},
   "outputs": [
    {
     "data": {
      "text/html": [
       "<div>\n",
       "<style scoped>\n",
       "    .dataframe tbody tr th:only-of-type {\n",
       "        vertical-align: middle;\n",
       "    }\n",
       "\n",
       "    .dataframe tbody tr th {\n",
       "        vertical-align: top;\n",
       "    }\n",
       "\n",
       "    .dataframe thead th {\n",
       "        text-align: right;\n",
       "    }\n",
       "</style>\n",
       "<table border=\"1\" class=\"dataframe\">\n",
       "  <thead>\n",
       "    <tr style=\"text-align: right;\">\n",
       "      <th></th>\n",
       "      <th>Box ID</th>\n",
       "      <th>Temperature</th>\n",
       "      <th>Time</th>\n",
       "    </tr>\n",
       "  </thead>\n",
       "  <tbody>\n",
       "    <tr>\n",
       "      <th>0</th>\n",
       "      <td>Mersch Luxembourg</td>\n",
       "      <td>25.30</td>\n",
       "      <td>2024-05-13 16:25:55</td>\n",
       "    </tr>\n",
       "    <tr>\n",
       "      <th>1</th>\n",
       "      <td>Ettlingen, Deutschland</td>\n",
       "      <td>23.49</td>\n",
       "      <td>2024-05-13 16:25:56</td>\n",
       "    </tr>\n",
       "    <tr>\n",
       "      <th>2</th>\n",
       "      <td>Stuttgart Deutschland</td>\n",
       "      <td>26.60</td>\n",
       "      <td>2024-05-13 16:25:56</td>\n",
       "    </tr>\n",
       "    <tr>\n",
       "      <th>3</th>\n",
       "      <td>München Deutschland</td>\n",
       "      <td>16.92</td>\n",
       "      <td>2024-05-13 16:25:56</td>\n",
       "    </tr>\n",
       "    <tr>\n",
       "      <th>4</th>\n",
       "      <td>Berlin Deutschland</td>\n",
       "      <td>28.50</td>\n",
       "      <td>2024-05-13 16:25:57</td>\n",
       "    </tr>\n",
       "    <tr>\n",
       "      <th>5</th>\n",
       "      <td>Hamburg Deutschland</td>\n",
       "      <td>38.20</td>\n",
       "      <td>2024-05-13 16:25:57</td>\n",
       "    </tr>\n",
       "    <tr>\n",
       "      <th>6</th>\n",
       "      <td>Dortmund Deutschland</td>\n",
       "      <td>26.611111111111114</td>\n",
       "      <td>2024-05-13 16:25:57</td>\n",
       "    </tr>\n",
       "    <tr>\n",
       "      <th>7</th>\n",
       "      <td>Jena Deutschland</td>\n",
       "      <td>24.90</td>\n",
       "      <td>2024-05-13 16:25:58</td>\n",
       "    </tr>\n",
       "  </tbody>\n",
       "</table>\n",
       "</div>"
      ],
      "text/plain": [
       "                   Box ID         Temperature                 Time\n",
       "0       Mersch Luxembourg               25.30  2024-05-13 16:25:55\n",
       "1  Ettlingen, Deutschland               23.49  2024-05-13 16:25:56\n",
       "2   Stuttgart Deutschland               26.60  2024-05-13 16:25:56\n",
       "3     München Deutschland               16.92  2024-05-13 16:25:56\n",
       "4      Berlin Deutschland               28.50  2024-05-13 16:25:57\n",
       "5     Hamburg Deutschland               38.20  2024-05-13 16:25:57\n",
       "6    Dortmund Deutschland  26.611111111111114  2024-05-13 16:25:57\n",
       "7        Jena Deutschland               24.90  2024-05-13 16:25:58"
      ]
     },
     "execution_count": 18,
     "metadata": {},
     "output_type": "execute_result"
    }
   ],
   "source": [
    "df"
   ]
  }
 ],
 "metadata": {
  "kernelspec": {
   "display_name": "base",
   "language": "python",
   "name": "python3"
  },
  "language_info": {
   "codemirror_mode": {
    "name": "ipython",
    "version": 3
   },
   "file_extension": ".py",
   "mimetype": "text/x-python",
   "name": "python",
   "nbconvert_exporter": "python",
   "pygments_lexer": "ipython3",
   "version": "3.11.5"
  }
 },
 "nbformat": 4,
 "nbformat_minor": 2
}
