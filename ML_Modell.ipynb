{
 "cells": [
  {
   "cell_type": "code",
   "execution_count": 1,
   "metadata": {},
   "outputs": [
    {
     "data": {
      "text/plain": [
       "True"
      ]
     },
     "execution_count": 1,
     "metadata": {},
     "output_type": "execute_result"
    }
   ],
   "source": [
    "import requests\n",
    "import time\n",
    "import pandas as pd\n",
    "import numpy as np\n",
    "import psycopg2\n",
    "import sqlalchemy\n",
    "from dotenv import load_dotenv\n",
    "import os\n",
    "\n",
    "load_dotenv()"
   ]
  },
  {
   "cell_type": "markdown",
   "metadata": {},
   "source": [
    "### Verbindung zur Datenbank aufbauen und Daten aus der Tabelle laden"
   ]
  },
  {
   "cell_type": "code",
   "execution_count": 2,
   "metadata": {},
   "outputs": [],
   "source": [
    "host = os.getenv('HOST')\n",
    "port = os.getenv('PORT')\n",
    "user = os.getenv('USER')\n",
    "password = os.getenv('PASSWORD')\n",
    "database= os.getenv('DATABASE')"
   ]
  },
  {
   "cell_type": "code",
   "execution_count": 3,
   "metadata": {},
   "outputs": [
    {
     "name": "stdout",
     "output_type": "stream",
     "text": [
      "Verbindung zur Datenbank erfolgreich hergestellt.\n"
     ]
    }
   ],
   "source": [
    "# Verbindung zur Datenbank herstellen\n",
    "connection = psycopg2.connect(host=host, port=port, database=database, user=user, password=password)\n",
    "print(\"Verbindung zur Datenbank erfolgreich hergestellt.\")\n",
    "\n",
    "# Einen Cursor erstellen, um SQL-Abfragen auszuführen\n",
    "cursor = connection.cursor()\n",
    "\n",
    "# SQL SELECT-Abfrage\n",
    "select_query = \"SELECT * FROM value;\"\n",
    "\n",
    "# Abfrage ausführen\n",
    "cursor.execute(select_query)\n",
    "\n",
    "# Ergebnis abrufen\n",
    "rows = cursor.fetchall()\n",
    "\n",
    "# Ergebnis in ein Pandas DataFrame umwandeln\n",
    "df = pd.DataFrame(rows, columns=[desc[0] for desc in cursor.description])\n",
    "\n",
    "# Cursor und Verbindung schließen\n",
    "cursor.close()\n",
    "connection.close()\n"
   ]
  },
  {
   "cell_type": "code",
   "execution_count": 5,
   "metadata": {},
   "outputs": [],
   "source": [
    "# Sicherstellen, dass 'time' als Datetime-Objekt erkannt wird\n",
    "df['time'] = pd.to_datetime(df['time'])"
   ]
  },
  {
   "cell_type": "markdown",
   "metadata": {},
   "source": [
    "### Random Forest Modell"
   ]
  },
  {
   "cell_type": "code",
   "execution_count": 5,
   "metadata": {},
   "outputs": [],
   "source": [
    "import pandas as pd\n",
    "from sklearn.ensemble import RandomForestRegressor\n",
    "from sklearn.model_selection import train_test_split\n",
    "from sklearn.metrics import mean_squared_error, mean_absolute_error\n",
    "\n",
    "\n",
    "# 1. Convert the time column to datetime objects\n",
    "df['time'] = pd.to_datetime(df['time'])\n",
    "\n",
    "# 2. Feature Engineering with Lags\n",
    "lags = [1, 2, 3]  # Lags for 10, 20, and 30 minutes\n",
    "for lag in lags:\n",
    "    df[f'Temperatur_lag_{lag*10}'] = df.groupby('senseid_fk')['temperature'].shift(lag)\n",
    "\n",
    "# 3. Create target variables for each prediction horizon\n",
    "for minutes in [10, 20, 30]:\n",
    "    shift = minutes // 10  # Calculate the shift based on 10-minute intervals\n",
    "    df[f'Temperatur_in_{minutes}_Minuten'] = df.groupby('senseid_fk')['temperature'].shift(-shift)\n",
    "\n",
    "# 4. Remove rows with missing values (introduced by lagging and shifting)\n",
    "df.dropna(inplace=True)"
   ]
  },
  {
   "cell_type": "code",
   "execution_count": 8,
   "metadata": {},
   "outputs": [
    {
     "name": "stdout",
     "output_type": "stream",
     "text": [
      "\n",
      "Temperatur_in_10_Minuten:\n",
      "  Mean Squared Error: 0.6959775182910382\n",
      "  Mean Absolute Error: 0.29405328315365437\n",
      "\n",
      "Temperatur_in_20_Minuten:\n",
      "  Mean Squared Error: 1.1561430452437964\n",
      "  Mean Absolute Error: 0.42871305138224786\n",
      "\n",
      "Temperatur_in_30_Minuten:\n",
      "  Mean Squared Error: 1.5624276179679655\n",
      "  Mean Absolute Error: 0.5264186126191158\n"
     ]
    }
   ],
   "source": [
    "# 5. Define target variables and create a dictionary for models\n",
    "target_variables = ['Temperatur_in_10_Minuten', 'Temperatur_in_20_Minuten', 'Temperatur_in_30_Minuten']\n",
    "models = {}\n",
    "\n",
    "# 6. Train and evaluate models for each target variable\n",
    "for target in target_variables:\n",
    "    # 6.1. Select features and target variable\n",
    "    X = df.drop(target_variables + [\"time\", \"senseid_fk\"], axis=1)\n",
    "    y = df[target]\n",
    "\n",
    "    # 6.2. Split data into training and testing sets\n",
    "    X_train, X_test, y_train, y_test = train_test_split(X, y, test_size=0.2, random_state=42)\n",
    "\n",
    "    # 6.3. Create and train the Random Forest model\n",
    "    model = RandomForestRegressor(n_estimators=400,max_depth=40, random_state=42)\n",
    "    model.fit(X_train, y_train)\n",
    "\n",
    "    # 6.4. Make predictions and evaluate\n",
    "    y_pred = model.predict(X_test)\n",
    "    mse = mean_squared_error(y_test, y_pred)\n",
    "    mae = mean_absolute_error(y_test, y_pred)\n",
    "    print(f\"\\n{target}:\")\n",
    "    print(f\"  Mean Squared Error: {mse}\")\n",
    "    print(f\"  Mean Absolute Error: {mae}\")\n",
    "\n",
    "    # 6.5. Store the trained model\n",
    "    models[target] = model"
   ]
  },
  {
   "cell_type": "markdown",
   "metadata": {},
   "source": [
    "### Mit GridSearch und CV"
   ]
  },
  {
   "cell_type": "code",
   "execution_count": null,
   "metadata": {},
   "outputs": [
    {
     "name": "stdout",
     "output_type": "stream",
     "text": [
      "\n",
      "Temperatur_in_10_Minuten:\n",
      "  Best Parameters: {'max_depth': 30, 'min_samples_leaf': 1, 'min_samples_split': 2, 'n_estimators': 200}\n",
      "  Mean Squared Error: 0.7231009365555813\n",
      "  Mean Absolute Error: 0.29696808916272927\n",
      "\n",
      "Temperatur_in_20_Minuten:\n",
      "  Best Parameters: {'max_depth': 30, 'min_samples_leaf': 1, 'min_samples_split': 2, 'n_estimators': 200}\n",
      "  Mean Squared Error: 1.1219574791632885\n",
      "  Mean Absolute Error: 0.4293155597508828\n",
      "\n",
      "Temperatur_in_30_Minuten:\n",
      "  Best Parameters: {'max_depth': 30, 'min_samples_leaf': 1, 'min_samples_split': 2, 'n_estimators': 200}\n",
      "  Mean Squared Error: 1.3734161227737929\n",
      "  Mean Absolute Error: 0.5241237983584991\n"
     ]
    }
   ],
   "source": [
    "# from sklearn.ensemble import RandomForestRegressor\n",
    "# from sklearn.model_selection import train_test_split, GridSearchCV\n",
    "# from sklearn.metrics import mean_squared_error, mean_absolute_error\n",
    "\n",
    "# # 5. Define target variables and create a dictionary for models\n",
    "# target_variables = ['Temperatur_in_10_Minuten', 'Temperatur_in_20_Minuten', 'Temperatur_in_30_Minuten']\n",
    "# models = {}\n",
    "\n",
    "# # Hyperparameter grid for Random Forest\n",
    "# param_grid = {\n",
    "#     'n_estimators': [300, 400],\n",
    "#     'max_depth': [30, 40, 50, 60, 70],\n",
    "# }\n",
    "\n",
    "# # 6. Train and evaluate models for each target variable\n",
    "# for target in target_variables:\n",
    "#     # 6.1. Select features and target variable\n",
    "#     X = df.drop(target_variables + [\"time\", \"senseid_fk\"], axis=1)\n",
    "#     y = df[target]\n",
    "\n",
    "#     # 6.2. Split data into training and testing sets\n",
    "#     X_train, X_test, y_train, y_test = train_test_split(X, y, test_size=0.2, random_state=42)\n",
    "\n",
    "#     # 6.3. Perform GridSearchCV to find the best hyperparameters\n",
    "#     rf = RandomForestRegressor(random_state=42)\n",
    "#     grid_search = GridSearchCV(estimator=rf, param_grid=param_grid, cv=5, n_jobs=-1, scoring='neg_mean_squared_error')\n",
    "#     grid_search.fit(X_train, y_train)\n",
    "\n",
    "#     # 6.4. Get the best model from grid search\n",
    "#     best_model = grid_search.best_estimator_\n",
    "\n",
    "#     # 6.5. Make predictions and evaluate\n",
    "#     y_pred = best_model.predict(X_test)\n",
    "#     mse = mean_squared_error(y_test, y_pred)\n",
    "#     mae = mean_absolute_error(y_test, y_pred)\n",
    "#     print(f\"\\n{target}:\")\n",
    "#     print(f\"  Best Parameters: {grid_search.best_params_}\")\n",
    "#     print(f\"  Mean Squared Error: {mse}\")\n",
    "#     print(f\"  Mean Absolute Error: {mae}\")\n",
    "\n",
    "#     # 6.6. Store the trained model\n",
    "#     models[target] = best_model\n"
   ]
  },
  {
   "cell_type": "markdown",
   "metadata": {},
   "source": [
    "### ARIMA"
   ]
  },
  {
   "cell_type": "code",
   "execution_count": 4,
   "metadata": {},
   "outputs": [],
   "source": [
    "import matplotlib.pyplot as plt\n",
    "from statsmodels.graphics.tsaplots import plot_acf, plot_pacf\n",
    "from statsmodels.tsa.arima.model import ARIMA\n",
    "from statsmodels.tsa.stattools import adfuller\n",
    "from sklearn.metrics import mean_squared_error\n",
    "import warnings\n",
    "warnings.filterwarnings(\"ignore\")"
   ]
  },
  {
   "cell_type": "code",
   "execution_count": 6,
   "metadata": {},
   "outputs": [
    {
     "data": {
      "text/html": [
       "<div>\n",
       "<style scoped>\n",
       "    .dataframe tbody tr th:only-of-type {\n",
       "        vertical-align: middle;\n",
       "    }\n",
       "\n",
       "    .dataframe tbody tr th {\n",
       "        vertical-align: top;\n",
       "    }\n",
       "\n",
       "    .dataframe thead th {\n",
       "        text-align: right;\n",
       "    }\n",
       "</style>\n",
       "<table border=\"1\" class=\"dataframe\">\n",
       "  <thead>\n",
       "    <tr style=\"text-align: right;\">\n",
       "      <th></th>\n",
       "      <th>index</th>\n",
       "      <th>time</th>\n",
       "      <th>temperature</th>\n",
       "      <th>luftfeuchtigkeit</th>\n",
       "      <th>pm10</th>\n",
       "      <th>pm2_5</th>\n",
       "      <th>senseid_fk</th>\n",
       "    </tr>\n",
       "  </thead>\n",
       "  <tbody>\n",
       "    <tr>\n",
       "      <th>0</th>\n",
       "      <td>1</td>\n",
       "      <td>2024-05-15 16:32:38</td>\n",
       "      <td>18.30</td>\n",
       "      <td>99.90</td>\n",
       "      <td>3.40</td>\n",
       "      <td>3.10</td>\n",
       "      <td>5ae4a726223bd80019a367a6</td>\n",
       "    </tr>\n",
       "    <tr>\n",
       "      <th>1</th>\n",
       "      <td>2</td>\n",
       "      <td>2024-05-15 16:32:39</td>\n",
       "      <td>17.90</td>\n",
       "      <td>75.63</td>\n",
       "      <td>9.45</td>\n",
       "      <td>8.20</td>\n",
       "      <td>5dde9523ba7944001da4150e</td>\n",
       "    </tr>\n",
       "    <tr>\n",
       "      <th>2</th>\n",
       "      <td>3</td>\n",
       "      <td>2024-05-15 16:32:40</td>\n",
       "      <td>22.90</td>\n",
       "      <td>55.90</td>\n",
       "      <td>3.23</td>\n",
       "      <td>2.93</td>\n",
       "      <td>5c08379b1c28f9001a3f580c</td>\n",
       "    </tr>\n",
       "    <tr>\n",
       "      <th>3</th>\n",
       "      <td>4</td>\n",
       "      <td>2024-05-15 16:32:40</td>\n",
       "      <td>17.24</td>\n",
       "      <td>69.30</td>\n",
       "      <td>10.77</td>\n",
       "      <td>3.38</td>\n",
       "      <td>5b4d11485dc1ec001b5452c7</td>\n",
       "    </tr>\n",
       "    <tr>\n",
       "      <th>4</th>\n",
       "      <td>5</td>\n",
       "      <td>2024-05-15 16:32:41</td>\n",
       "      <td>26.30</td>\n",
       "      <td>30.70</td>\n",
       "      <td>0.00</td>\n",
       "      <td>0.00</td>\n",
       "      <td>65e8d93acbf5700007f920ca</td>\n",
       "    </tr>\n",
       "  </tbody>\n",
       "</table>\n",
       "</div>"
      ],
      "text/plain": [
       "   index                time  temperature  luftfeuchtigkeit   pm10  pm2_5  \\\n",
       "0      1 2024-05-15 16:32:38        18.30             99.90   3.40   3.10   \n",
       "1      2 2024-05-15 16:32:39        17.90             75.63   9.45   8.20   \n",
       "2      3 2024-05-15 16:32:40        22.90             55.90   3.23   2.93   \n",
       "3      4 2024-05-15 16:32:40        17.24             69.30  10.77   3.38   \n",
       "4      5 2024-05-15 16:32:41        26.30             30.70   0.00   0.00   \n",
       "\n",
       "                 senseid_fk  \n",
       "0  5ae4a726223bd80019a367a6  \n",
       "1  5dde9523ba7944001da4150e  \n",
       "2  5c08379b1c28f9001a3f580c  \n",
       "3  5b4d11485dc1ec001b5452c7  \n",
       "4  65e8d93acbf5700007f920ca  "
      ]
     },
     "execution_count": 6,
     "metadata": {},
     "output_type": "execute_result"
    }
   ],
   "source": [
    "df.head()"
   ]
  },
  {
   "cell_type": "code",
   "execution_count": 8,
   "metadata": {},
   "outputs": [],
   "source": [
    "# Daten für eine Wetterstation extrahieren\n",
    "station_id = \"5ae4a726223bd80019a367a6\" \n",
    "station_data = df[df['senseid_fk'] == station_id]\n",
    "\n",
    "# Sortieren nach Zeit\n",
    "station_data = station_data.sort_values(by='time')\n",
    "\n",
    "# Zeit und Temperatur als Zeitreihe\n",
    "station_data.set_index('time', inplace=True)\n",
    "temperature_series = station_data['temperature']"
   ]
  },
  {
   "cell_type": "code",
   "execution_count": 12,
   "metadata": {},
   "outputs": [
    {
     "data": {
      "text/html": [
       "<div>\n",
       "<style scoped>\n",
       "    .dataframe tbody tr th:only-of-type {\n",
       "        vertical-align: middle;\n",
       "    }\n",
       "\n",
       "    .dataframe tbody tr th {\n",
       "        vertical-align: top;\n",
       "    }\n",
       "\n",
       "    .dataframe thead th {\n",
       "        text-align: right;\n",
       "    }\n",
       "</style>\n",
       "<table border=\"1\" class=\"dataframe\">\n",
       "  <thead>\n",
       "    <tr style=\"text-align: right;\">\n",
       "      <th></th>\n",
       "      <th>index</th>\n",
       "      <th>temperature</th>\n",
       "      <th>luftfeuchtigkeit</th>\n",
       "      <th>pm10</th>\n",
       "      <th>pm2_5</th>\n",
       "      <th>senseid_fk</th>\n",
       "    </tr>\n",
       "    <tr>\n",
       "      <th>time</th>\n",
       "      <th></th>\n",
       "      <th></th>\n",
       "      <th></th>\n",
       "      <th></th>\n",
       "      <th></th>\n",
       "      <th></th>\n",
       "    </tr>\n",
       "  </thead>\n",
       "  <tbody>\n",
       "    <tr>\n",
       "      <th>2023-01-14 13:25:07.618</th>\n",
       "      <td>194946</td>\n",
       "      <td>9.1</td>\n",
       "      <td>99.9</td>\n",
       "      <td>7.53</td>\n",
       "      <td>1.23</td>\n",
       "      <td>5ae4a726223bd80019a367a6</td>\n",
       "    </tr>\n",
       "    <tr>\n",
       "      <th>2023-01-14 13:27:38.507</th>\n",
       "      <td>194945</td>\n",
       "      <td>9.2</td>\n",
       "      <td>99.9</td>\n",
       "      <td>3.67</td>\n",
       "      <td>1.00</td>\n",
       "      <td>5ae4a726223bd80019a367a6</td>\n",
       "    </tr>\n",
       "    <tr>\n",
       "      <th>2023-01-14 13:30:20.783</th>\n",
       "      <td>194944</td>\n",
       "      <td>9.2</td>\n",
       "      <td>99.9</td>\n",
       "      <td>4.33</td>\n",
       "      <td>1.00</td>\n",
       "      <td>5ae4a726223bd80019a367a6</td>\n",
       "    </tr>\n",
       "    <tr>\n",
       "      <th>2023-01-14 13:33:03.062</th>\n",
       "      <td>194943</td>\n",
       "      <td>9.2</td>\n",
       "      <td>99.9</td>\n",
       "      <td>2.30</td>\n",
       "      <td>0.90</td>\n",
       "      <td>5ae4a726223bd80019a367a6</td>\n",
       "    </tr>\n",
       "    <tr>\n",
       "      <th>2023-01-14 13:35:30.628</th>\n",
       "      <td>194942</td>\n",
       "      <td>9.2</td>\n",
       "      <td>99.9</td>\n",
       "      <td>3.57</td>\n",
       "      <td>1.00</td>\n",
       "      <td>5ae4a726223bd80019a367a6</td>\n",
       "    </tr>\n",
       "    <tr>\n",
       "      <th>...</th>\n",
       "      <td>...</td>\n",
       "      <td>...</td>\n",
       "      <td>...</td>\n",
       "      <td>...</td>\n",
       "      <td>...</td>\n",
       "      <td>...</td>\n",
       "    </tr>\n",
       "    <tr>\n",
       "      <th>2024-06-05 20:00:05.000</th>\n",
       "      <td>1193304</td>\n",
       "      <td>17.1</td>\n",
       "      <td>99.9</td>\n",
       "      <td>3.90</td>\n",
       "      <td>3.03</td>\n",
       "      <td>5ae4a726223bd80019a367a6</td>\n",
       "    </tr>\n",
       "    <tr>\n",
       "      <th>2024-06-05 20:10:04.000</th>\n",
       "      <td>1193312</td>\n",
       "      <td>16.9</td>\n",
       "      <td>99.9</td>\n",
       "      <td>5.68</td>\n",
       "      <td>3.95</td>\n",
       "      <td>5ae4a726223bd80019a367a6</td>\n",
       "    </tr>\n",
       "    <tr>\n",
       "      <th>2024-06-05 20:20:04.000</th>\n",
       "      <td>1193320</td>\n",
       "      <td>16.7</td>\n",
       "      <td>99.9</td>\n",
       "      <td>7.40</td>\n",
       "      <td>3.97</td>\n",
       "      <td>5ae4a726223bd80019a367a6</td>\n",
       "    </tr>\n",
       "    <tr>\n",
       "      <th>2024-06-05 20:30:03.000</th>\n",
       "      <td>1193328</td>\n",
       "      <td>16.7</td>\n",
       "      <td>99.9</td>\n",
       "      <td>7.53</td>\n",
       "      <td>4.17</td>\n",
       "      <td>5ae4a726223bd80019a367a6</td>\n",
       "    </tr>\n",
       "    <tr>\n",
       "      <th>2024-06-05 20:40:04.000</th>\n",
       "      <td>1193336</td>\n",
       "      <td>16.3</td>\n",
       "      <td>99.9</td>\n",
       "      <td>7.00</td>\n",
       "      <td>4.80</td>\n",
       "      <td>5ae4a726223bd80019a367a6</td>\n",
       "    </tr>\n",
       "  </tbody>\n",
       "</table>\n",
       "<p>171740 rows × 6 columns</p>\n",
       "</div>"
      ],
      "text/plain": [
       "                           index  temperature  luftfeuchtigkeit  pm10  pm2_5  \\\n",
       "time                                                                           \n",
       "2023-01-14 13:25:07.618   194946          9.1              99.9  7.53   1.23   \n",
       "2023-01-14 13:27:38.507   194945          9.2              99.9  3.67   1.00   \n",
       "2023-01-14 13:30:20.783   194944          9.2              99.9  4.33   1.00   \n",
       "2023-01-14 13:33:03.062   194943          9.2              99.9  2.30   0.90   \n",
       "2023-01-14 13:35:30.628   194942          9.2              99.9  3.57   1.00   \n",
       "...                          ...          ...               ...   ...    ...   \n",
       "2024-06-05 20:00:05.000  1193304         17.1              99.9  3.90   3.03   \n",
       "2024-06-05 20:10:04.000  1193312         16.9              99.9  5.68   3.95   \n",
       "2024-06-05 20:20:04.000  1193320         16.7              99.9  7.40   3.97   \n",
       "2024-06-05 20:30:03.000  1193328         16.7              99.9  7.53   4.17   \n",
       "2024-06-05 20:40:04.000  1193336         16.3              99.9  7.00   4.80   \n",
       "\n",
       "                                       senseid_fk  \n",
       "time                                               \n",
       "2023-01-14 13:25:07.618  5ae4a726223bd80019a367a6  \n",
       "2023-01-14 13:27:38.507  5ae4a726223bd80019a367a6  \n",
       "2023-01-14 13:30:20.783  5ae4a726223bd80019a367a6  \n",
       "2023-01-14 13:33:03.062  5ae4a726223bd80019a367a6  \n",
       "2023-01-14 13:35:30.628  5ae4a726223bd80019a367a6  \n",
       "...                                           ...  \n",
       "2024-06-05 20:00:05.000  5ae4a726223bd80019a367a6  \n",
       "2024-06-05 20:10:04.000  5ae4a726223bd80019a367a6  \n",
       "2024-06-05 20:20:04.000  5ae4a726223bd80019a367a6  \n",
       "2024-06-05 20:30:03.000  5ae4a726223bd80019a367a6  \n",
       "2024-06-05 20:40:04.000  5ae4a726223bd80019a367a6  \n",
       "\n",
       "[171740 rows x 6 columns]"
      ]
     },
     "execution_count": 12,
     "metadata": {},
     "output_type": "execute_result"
    }
   ],
   "source": [
    "station_data"
   ]
  },
  {
   "cell_type": "code",
   "execution_count": 9,
   "metadata": {},
   "outputs": [
    {
     "data": {
      "text/plain": [
       "<Axes: xlabel='time'>"
      ]
     },
     "execution_count": 9,
     "metadata": {},
     "output_type": "execute_result"
    },
    {
     "data": {
      "image/png": "[encoded data removed]",
      "text/plain": [
       "<Figure size 1200x500 with 1 Axes>"
      ]
     },
     "metadata": {},
     "output_type": "display_data"
    }
   ],
   "source": [
    "station_data['temperature'].plot(figsize=(12,5))"
   ]
  },
  {
   "cell_type": "code",
   "execution_count": 10,
   "metadata": {},
   "outputs": [
    {
     "name": "stdout",
     "output_type": "stream",
     "text": [
      "1. ADF :  -12.25647105527954\n",
      "2. P-Value :  9.285814742173022e-23\n",
      "3. Num Of Lags :  69\n",
      "4. Num Of Observations Used For ADF Regression: 171670\n",
      "5. Critical Values :\n",
      "\t 1% :  -3.4303880928396535\n",
      "\t 5% :  -2.861556836515786\n",
      "\t 10% :  -2.566778961474706\n"
     ]
    }
   ],
   "source": [
    "from statsmodels.tsa.stattools import adfuller\n",
    "def adf_test(dataset):\n",
    "     dftest = adfuller(dataset, autolag = 'AIC')\n",
    "     print(\"1. ADF : \",dftest[0])\n",
    "     print(\"2. P-Value : \", dftest[1])\n",
    "     print(\"3. Num Of Lags : \", dftest[2])\n",
    "     print(\"4. Num Of Observations Used For ADF Regression:\",      dftest[3])\n",
    "     print(\"5. Critical Values :\")\n",
    "     for key, val in dftest[4].items():\n",
    "         print(\"\\t\",key, \": \", val)\n",
    "adf_test(station_data['temperature'])"
   ]
  },
  {
   "cell_type": "markdown",
   "metadata": {},
   "source": [
    "Order für ARIMA"
   ]
  },
  {
   "cell_type": "code",
   "execution_count": 13,
   "metadata": {},
   "outputs": [],
   "source": [
    "from pmdarima import auto_arima"
   ]
  },
  {
   "cell_type": "code",
   "execution_count": 14,
   "metadata": {},
   "outputs": [
    {
     "name": "stdout",
     "output_type": "stream",
     "text": [
      "Performing stepwise search to minimize aic\n",
      " ARIMA(2,1,2)(0,0,0)[0] intercept   : AIC=-136216.585, Time=96.19 sec\n",
      " ARIMA(0,1,0)(0,0,0)[0] intercept   : AIC=-131081.773, Time=10.63 sec\n",
      " ARIMA(1,1,0)(0,0,0)[0] intercept   : AIC=-131813.249, Time=13.10 sec\n",
      " ARIMA(0,1,1)(0,0,0)[0] intercept   : AIC=-131742.194, Time=14.22 sec\n",
      " ARIMA(0,1,0)(0,0,0)[0]             : AIC=-131083.762, Time=4.19 sec\n",
      " ARIMA(1,1,2)(0,0,0)[0] intercept   : AIC=-136183.556, Time=82.08 sec\n",
      " ARIMA(2,1,1)(0,0,0)[0] intercept   : AIC=-136239.446, Time=108.19 sec\n",
      " ARIMA(1,1,1)(0,0,0)[0] intercept   : AIC=-136219.507, Time=50.36 sec\n",
      " ARIMA(2,1,0)(0,0,0)[0] intercept   : AIC=-132330.271, Time=8.63 sec\n",
      " ARIMA(3,1,1)(0,0,0)[0] intercept   : AIC=-136237.770, Time=113.11 sec\n",
      " ARIMA(3,1,0)(0,0,0)[0] intercept   : AIC=-132868.309, Time=10.62 sec\n",
      " ARIMA(3,1,2)(0,0,0)[0] intercept   : AIC=-136210.071, Time=121.34 sec\n",
      " ARIMA(2,1,1)(0,0,0)[0]             : AIC=-136241.474, Time=25.35 sec\n",
      " ARIMA(1,1,1)(0,0,0)[0]             : AIC=-136242.329, Time=15.31 sec\n",
      " ARIMA(0,1,1)(0,0,0)[0]             : AIC=-131744.185, Time=4.72 sec\n",
      " ARIMA(1,1,0)(0,0,0)[0]             : AIC=-131815.239, Time=3.33 sec\n",
      " ARIMA(1,1,2)(0,0,0)[0]             : AIC=-136241.483, Time=53.32 sec\n",
      " ARIMA(0,1,2)(0,0,0)[0]             : AIC=-132174.397, Time=6.08 sec\n",
      " ARIMA(2,1,0)(0,0,0)[0]             : AIC=-132332.262, Time=3.67 sec\n",
      " ARIMA(2,1,2)(0,0,0)[0]             : AIC=-136241.109, Time=27.73 sec\n",
      "\n",
      "Best model:  ARIMA(1,1,1)(0,0,0)[0]          \n",
      "Total fit time: 772.215 seconds\n"
     ]
    },
    {
     "data": {
      "text/html": [
       "<table class=\"simpletable\">\n",
       "<caption>SARIMAX Results</caption>\n",
       "<tr>\n",
       "  <th>Dep. Variable:</th>           <td>y</td>        <th>  No. Observations:  </th>   <td>171740</td>   \n",
       "</tr>\n",
       "<tr>\n",
       "  <th>Model:</th>           <td>SARIMAX(1, 1, 1)</td> <th>  Log Likelihood     </th>  <td>68124.164</td> \n",
       "</tr>\n",
       "<tr>\n",
       "  <th>Date:</th>            <td>Wed, 05 Jun 2024</td> <th>  AIC                </th> <td>-136242.329</td>\n",
       "</tr>\n",
       "<tr>\n",
       "  <th>Time:</th>                <td>23:00:31</td>     <th>  BIC                </th> <td>-136212.167</td>\n",
       "</tr>\n",
       "<tr>\n",
       "  <th>Sample:</th>                  <td>0</td>        <th>  HQIC               </th> <td>-136233.392</td>\n",
       "</tr>\n",
       "<tr>\n",
       "  <th></th>                     <td> - 171740</td>    <th>                     </th>      <td> </td>     \n",
       "</tr>\n",
       "<tr>\n",
       "  <th>Covariance Type:</th>        <td>opg</td>       <th>                     </th>      <td> </td>     \n",
       "</tr>\n",
       "</table>\n",
       "<table class=\"simpletable\">\n",
       "<tr>\n",
       "     <td></td>       <th>coef</th>     <th>std err</th>      <th>z</th>      <th>P>|z|</th>  <th>[0.025</th>    <th>0.975]</th>  \n",
       "</tr>\n",
       "<tr>\n",
       "  <th>ar.L1</th>  <td>    0.9797</td> <td>    0.001</td> <td> 1034.698</td> <td> 0.000</td> <td>    0.978</td> <td>    0.982</td>\n",
       "</tr>\n",
       "<tr>\n",
       "  <th>ma.L1</th>  <td>   -0.9446</td> <td>    0.001</td> <td> -761.960</td> <td> 0.000</td> <td>   -0.947</td> <td>   -0.942</td>\n",
       "</tr>\n",
       "<tr>\n",
       "  <th>sigma2</th> <td>    0.0265</td> <td> 2.37e-06</td> <td> 1.12e+04</td> <td> 0.000</td> <td>    0.026</td> <td>    0.026</td>\n",
       "</tr>\n",
       "</table>\n",
       "<table class=\"simpletable\">\n",
       "<tr>\n",
       "  <th>Ljung-Box (L1) (Q):</th>     <td>1.00</td> <th>  Jarque-Bera (JB):  </th> <td>64898273567.87</td>\n",
       "</tr>\n",
       "<tr>\n",
       "  <th>Prob(Q):</th>                <td>0.32</td> <th>  Prob(JB):          </th>      <td>0.00</td>     \n",
       "</tr>\n",
       "<tr>\n",
       "  <th>Heteroskedasticity (H):</th> <td>2.51</td> <th>  Skew:              </th>      <td>-7.53</td>    \n",
       "</tr>\n",
       "<tr>\n",
       "  <th>Prob(H) (two-sided):</th>    <td>0.00</td> <th>  Kurtosis:          </th>     <td>3014.50</td>   \n",
       "</tr>\n",
       "</table><br/><br/>Warnings:<br/>[1] Covariance matrix calculated using the outer product of gradients (complex-step)."
      ],
      "text/latex": [
       "\\begin{center}\n",
       "\\begin{tabular}{lclc}\n",
       "\\toprule\n",
       "\\textbf{Dep. Variable:}          &        y         & \\textbf{  No. Observations:  } &     171740      \\\\\n",
       "\\textbf{Model:}                  & SARIMAX(1, 1, 1) & \\textbf{  Log Likelihood     } &   68124.164     \\\\\n",
       "\\textbf{Date:}                   & Wed, 05 Jun 2024 & \\textbf{  AIC                } &  -136242.329    \\\\\n",
       "\\textbf{Time:}                   &     23:00:31     & \\textbf{  BIC                } &  -136212.167    \\\\\n",
       "\\textbf{Sample:}                 &        0         & \\textbf{  HQIC               } &  -136233.392    \\\\\n",
       "\\textbf{}                        &     - 171740     & \\textbf{                     } &                 \\\\\n",
       "\\textbf{Covariance Type:}        &       opg        & \\textbf{                     } &                 \\\\\n",
       "\\bottomrule\n",
       "\\end{tabular}\n",
       "\\begin{tabular}{lcccccc}\n",
       "                & \\textbf{coef} & \\textbf{std err} & \\textbf{z} & \\textbf{P$> |$z$|$} & \\textbf{[0.025} & \\textbf{0.975]}  \\\\\n",
       "\\midrule\n",
       "\\textbf{ar.L1}  &       0.9797  &        0.001     &  1034.698  &         0.000        &        0.978    &        0.982     \\\\\n",
       "\\textbf{ma.L1}  &      -0.9446  &        0.001     &  -761.960  &         0.000        &       -0.947    &       -0.942     \\\\\n",
       "\\textbf{sigma2} &       0.0265  &     2.37e-06     &  1.12e+04  &         0.000        &        0.026    &        0.026     \\\\\n",
       "\\bottomrule\n",
       "\\end{tabular}\n",
       "\\begin{tabular}{lclc}\n",
       "\\textbf{Ljung-Box (L1) (Q):}     & 1.00 & \\textbf{  Jarque-Bera (JB):  } & 64898273567.87  \\\\\n",
       "\\textbf{Prob(Q):}                & 0.32 & \\textbf{  Prob(JB):          } &      0.00       \\\\\n",
       "\\textbf{Heteroskedasticity (H):} & 2.51 & \\textbf{  Skew:              } &     -7.53       \\\\\n",
       "\\textbf{Prob(H) (two-sided):}    & 0.00 & \\textbf{  Kurtosis:          } &    3014.50      \\\\\n",
       "\\bottomrule\n",
       "\\end{tabular}\n",
       "%\\caption{SARIMAX Results}\n",
       "\\end{center}\n",
       "\n",
       "Warnings: \\newline\n",
       " [1] Covariance matrix calculated using the outer product of gradients (complex-step)."
      ],
      "text/plain": [
       "<class 'statsmodels.iolib.summary.Summary'>\n",
       "\"\"\"\n",
       "                               SARIMAX Results                                \n",
       "==============================================================================\n",
       "Dep. Variable:                      y   No. Observations:               171740\n",
       "Model:               SARIMAX(1, 1, 1)   Log Likelihood               68124.164\n",
       "Date:                Wed, 05 Jun 2024   AIC                        -136242.329\n",
       "Time:                        23:00:31   BIC                        -136212.167\n",
       "Sample:                             0   HQIC                       -136233.392\n",
       "                             - 171740                                         \n",
       "Covariance Type:                  opg                                         \n",
       "==============================================================================\n",
       "                 coef    std err          z      P>|z|      [0.025      0.975]\n",
       "------------------------------------------------------------------------------\n",
       "ar.L1          0.9797      0.001   1034.698      0.000       0.978       0.982\n",
       "ma.L1         -0.9446      0.001   -761.960      0.000      -0.947      -0.942\n",
       "sigma2         0.0265   2.37e-06   1.12e+04      0.000       0.026       0.026\n",
       "===================================================================================\n",
       "Ljung-Box (L1) (Q):                   1.00   Jarque-Bera (JB):       64898273567.87\n",
       "Prob(Q):                              0.32   Prob(JB):                         0.00\n",
       "Heteroskedasticity (H):               2.51   Skew:                            -7.53\n",
       "Prob(H) (two-sided):                  0.00   Kurtosis:                      3014.50\n",
       "===================================================================================\n",
       "\n",
       "Warnings:\n",
       "[1] Covariance matrix calculated using the outer product of gradients (complex-step).\n",
       "\"\"\""
      ]
     },
     "execution_count": 14,
     "metadata": {},
     "output_type": "execute_result"
    }
   ],
   "source": [
    "stepwise_fit = auto_arima(station_data['temperature'], trace=True, suppress_warnings=True)\n",
    "stepwise_fit.summary()"
   ]
  },
  {
   "cell_type": "code",
   "execution_count": 24,
   "metadata": {},
   "outputs": [],
   "source": [
    "from statsmodels.tsa.arima.model import ARIMA"
   ]
  },
  {
   "cell_type": "code",
   "execution_count": 25,
   "metadata": {},
   "outputs": [
    {
     "name": "stdout",
     "output_type": "stream",
     "text": [
      "(171710, 6) (30, 6)\n"
     ]
    }
   ],
   "source": [
    "train=station_data.iloc[:-30]\n",
    "test=station_data.iloc[-30:]\n",
    "print(train.shape,test.shape)\n"
   ]
  },
  {
   "cell_type": "code",
   "execution_count": 36,
   "metadata": {},
   "outputs": [
    {
     "data": {
      "text/html": [
       "<table class=\"simpletable\">\n",
       "<caption>SARIMAX Results</caption>\n",
       "<tr>\n",
       "  <th>Dep. Variable:</th>      <td>temperature</td>   <th>  No. Observations:  </th>   <td>171710</td>   \n",
       "</tr>\n",
       "<tr>\n",
       "  <th>Model:</th>            <td>ARIMA(1, 0, 5)</td>  <th>  Log Likelihood     </th>  <td>66683.501</td> \n",
       "</tr>\n",
       "<tr>\n",
       "  <th>Date:</th>            <td>Wed, 05 Jun 2024</td> <th>  AIC                </th> <td>-133351.002</td>\n",
       "</tr>\n",
       "<tr>\n",
       "  <th>Time:</th>                <td>23:24:57</td>     <th>  BIC                </th> <td>-133270.574</td>\n",
       "</tr>\n",
       "<tr>\n",
       "  <th>Sample:</th>                  <td>0</td>        <th>  HQIC               </th> <td>-133327.173</td>\n",
       "</tr>\n",
       "<tr>\n",
       "  <th></th>                     <td> - 171710</td>    <th>                     </th>      <td> </td>     \n",
       "</tr>\n",
       "<tr>\n",
       "  <th>Covariance Type:</th>        <td>opg</td>       <th>                     </th>      <td> </td>     \n",
       "</tr>\n",
       "</table>\n",
       "<table class=\"simpletable\">\n",
       "<tr>\n",
       "     <td></td>       <th>coef</th>     <th>std err</th>      <th>z</th>      <th>P>|z|</th>  <th>[0.025</th>    <th>0.975]</th>  \n",
       "</tr>\n",
       "<tr>\n",
       "  <th>const</th>  <td>   12.8668</td> <td>    1.396</td> <td>    9.215</td> <td> 0.000</td> <td>   10.130</td> <td>   15.603</td>\n",
       "</tr>\n",
       "<tr>\n",
       "  <th>ar.L1</th>  <td>    0.9996</td> <td> 6.68e-05</td> <td>  1.5e+04</td> <td> 0.000</td> <td>    0.999</td> <td>    1.000</td>\n",
       "</tr>\n",
       "<tr>\n",
       "  <th>ma.L1</th>  <td>    0.0522</td> <td>    0.001</td> <td>   63.125</td> <td> 0.000</td> <td>    0.051</td> <td>    0.054</td>\n",
       "</tr>\n",
       "<tr>\n",
       "  <th>ma.L2</th>  <td>    0.0450</td> <td>    0.001</td> <td>   48.218</td> <td> 0.000</td> <td>    0.043</td> <td>    0.047</td>\n",
       "</tr>\n",
       "<tr>\n",
       "  <th>ma.L3</th>  <td>    0.0483</td> <td>    0.001</td> <td>   50.656</td> <td> 0.000</td> <td>    0.046</td> <td>    0.050</td>\n",
       "</tr>\n",
       "<tr>\n",
       "  <th>ma.L4</th>  <td>    0.0428</td> <td>    0.001</td> <td>   36.340</td> <td> 0.000</td> <td>    0.040</td> <td>    0.045</td>\n",
       "</tr>\n",
       "<tr>\n",
       "  <th>ma.L5</th>  <td>    0.0424</td> <td>    0.001</td> <td>   36.924</td> <td> 0.000</td> <td>    0.040</td> <td>    0.045</td>\n",
       "</tr>\n",
       "<tr>\n",
       "  <th>sigma2</th> <td>    0.0269</td> <td> 3.09e-06</td> <td> 8705.243</td> <td> 0.000</td> <td>    0.027</td> <td>    0.027</td>\n",
       "</tr>\n",
       "</table>\n",
       "<table class=\"simpletable\">\n",
       "<tr>\n",
       "  <th>Ljung-Box (L1) (Q):</th>     <td>0.49</td> <th>  Jarque-Bera (JB):  </th> <td>60607529276.23</td>\n",
       "</tr>\n",
       "<tr>\n",
       "  <th>Prob(Q):</th>                <td>0.48</td> <th>  Prob(JB):          </th>      <td>0.00</td>     \n",
       "</tr>\n",
       "<tr>\n",
       "  <th>Heteroskedasticity (H):</th> <td>2.43</td> <th>  Skew:              </th>      <td>-7.33</td>    \n",
       "</tr>\n",
       "<tr>\n",
       "  <th>Prob(H) (two-sided):</th>    <td>0.00</td> <th>  Kurtosis:          </th>     <td>2913.49</td>   \n",
       "</tr>\n",
       "</table><br/><br/>Warnings:<br/>[1] Covariance matrix calculated using the outer product of gradients (complex-step)."
      ],
      "text/latex": [
       "\\begin{center}\n",
       "\\begin{tabular}{lclc}\n",
       "\\toprule\n",
       "\\textbf{Dep. Variable:}          &   temperature    & \\textbf{  No. Observations:  } &     171710      \\\\\n",
       "\\textbf{Model:}                  &  ARIMA(1, 0, 5)  & \\textbf{  Log Likelihood     } &   66683.501     \\\\\n",
       "\\textbf{Date:}                   & Wed, 05 Jun 2024 & \\textbf{  AIC                } &  -133351.002    \\\\\n",
       "\\textbf{Time:}                   &     23:24:57     & \\textbf{  BIC                } &  -133270.574    \\\\\n",
       "\\textbf{Sample:}                 &        0         & \\textbf{  HQIC               } &  -133327.173    \\\\\n",
       "\\textbf{}                        &     - 171710     & \\textbf{                     } &                 \\\\\n",
       "\\textbf{Covariance Type:}        &       opg        & \\textbf{                     } &                 \\\\\n",
       "\\bottomrule\n",
       "\\end{tabular}\n",
       "\\begin{tabular}{lcccccc}\n",
       "                & \\textbf{coef} & \\textbf{std err} & \\textbf{z} & \\textbf{P$> |$z$|$} & \\textbf{[0.025} & \\textbf{0.975]}  \\\\\n",
       "\\midrule\n",
       "\\textbf{const}  &      12.8668  &        1.396     &     9.215  &         0.000        &       10.130    &       15.603     \\\\\n",
       "\\textbf{ar.L1}  &       0.9996  &     6.68e-05     &   1.5e+04  &         0.000        &        0.999    &        1.000     \\\\\n",
       "\\textbf{ma.L1}  &       0.0522  &        0.001     &    63.125  &         0.000        &        0.051    &        0.054     \\\\\n",
       "\\textbf{ma.L2}  &       0.0450  &        0.001     &    48.218  &         0.000        &        0.043    &        0.047     \\\\\n",
       "\\textbf{ma.L3}  &       0.0483  &        0.001     &    50.656  &         0.000        &        0.046    &        0.050     \\\\\n",
       "\\textbf{ma.L4}  &       0.0428  &        0.001     &    36.340  &         0.000        &        0.040    &        0.045     \\\\\n",
       "\\textbf{ma.L5}  &       0.0424  &        0.001     &    36.924  &         0.000        &        0.040    &        0.045     \\\\\n",
       "\\textbf{sigma2} &       0.0269  &     3.09e-06     &  8705.243  &         0.000        &        0.027    &        0.027     \\\\\n",
       "\\bottomrule\n",
       "\\end{tabular}\n",
       "\\begin{tabular}{lclc}\n",
       "\\textbf{Ljung-Box (L1) (Q):}     & 0.49 & \\textbf{  Jarque-Bera (JB):  } & 60607529276.23  \\\\\n",
       "\\textbf{Prob(Q):}                & 0.48 & \\textbf{  Prob(JB):          } &      0.00       \\\\\n",
       "\\textbf{Heteroskedasticity (H):} & 2.43 & \\textbf{  Skew:              } &     -7.33       \\\\\n",
       "\\textbf{Prob(H) (two-sided):}    & 0.00 & \\textbf{  Kurtosis:          } &    2913.49      \\\\\n",
       "\\bottomrule\n",
       "\\end{tabular}\n",
       "%\\caption{SARIMAX Results}\n",
       "\\end{center}\n",
       "\n",
       "Warnings: \\newline\n",
       " [1] Covariance matrix calculated using the outer product of gradients (complex-step)."
      ],
      "text/plain": [
       "<class 'statsmodels.iolib.summary.Summary'>\n",
       "\"\"\"\n",
       "                               SARIMAX Results                                \n",
       "==============================================================================\n",
       "Dep. Variable:            temperature   No. Observations:               171710\n",
       "Model:                 ARIMA(1, 0, 5)   Log Likelihood               66683.501\n",
       "Date:                Wed, 05 Jun 2024   AIC                        -133351.002\n",
       "Time:                        23:24:57   BIC                        -133270.574\n",
       "Sample:                             0   HQIC                       -133327.173\n",
       "                             - 171710                                         \n",
       "Covariance Type:                  opg                                         \n",
       "==============================================================================\n",
       "                 coef    std err          z      P>|z|      [0.025      0.975]\n",
       "------------------------------------------------------------------------------\n",
       "const         12.8668      1.396      9.215      0.000      10.130      15.603\n",
       "ar.L1          0.9996   6.68e-05    1.5e+04      0.000       0.999       1.000\n",
       "ma.L1          0.0522      0.001     63.125      0.000       0.051       0.054\n",
       "ma.L2          0.0450      0.001     48.218      0.000       0.043       0.047\n",
       "ma.L3          0.0483      0.001     50.656      0.000       0.046       0.050\n",
       "ma.L4          0.0428      0.001     36.340      0.000       0.040       0.045\n",
       "ma.L5          0.0424      0.001     36.924      0.000       0.040       0.045\n",
       "sigma2         0.0269   3.09e-06   8705.243      0.000       0.027       0.027\n",
       "===================================================================================\n",
       "Ljung-Box (L1) (Q):                   0.49   Jarque-Bera (JB):       60607529276.23\n",
       "Prob(Q):                              0.48   Prob(JB):                         0.00\n",
       "Heteroskedasticity (H):               2.43   Skew:                            -7.33\n",
       "Prob(H) (two-sided):                  0.00   Kurtosis:                      2913.49\n",
       "===================================================================================\n",
       "\n",
       "Warnings:\n",
       "[1] Covariance matrix calculated using the outer product of gradients (complex-step).\n",
       "\"\"\""
      ]
     },
     "execution_count": 36,
     "metadata": {},
     "output_type": "execute_result"
    }
   ],
   "source": [
    "model=ARIMA(train[\"temperature\"],order=(1,0,5))\n",
    "model=model.fit()\n",
    "model.summary()"
   ]
  },
  {
   "cell_type": "code",
   "execution_count": 37,
   "metadata": {},
   "outputs": [
    {
     "data": {
      "text/plain": [
       "<Axes: xlabel='time'>"
      ]
     },
     "execution_count": 37,
     "metadata": {},
     "output_type": "execute_result"
    },
    {
     "data": {
      "image/png": "[encoded data removed]",
      "text/plain": [
       "<Figure size 640x480 with 1 Axes>"
      ]
     },
     "metadata": {},
     "output_type": "display_data"
    }
   ],
   "source": [
    "start=len(train)\n",
    "end=len(train)+len(test)-1\n",
    "pred=model.predict(start=start,end=end,typ='levels').rename('ARIMA Predictions')\n",
    "pred.index=station_data.index[start:end+1]\n",
    "pred.plot(legend=True)\n",
    "test['temperature'].plot(legend=True)\n"
   ]
  },
  {
   "cell_type": "code",
   "execution_count": 38,
   "metadata": {},
   "outputs": [
    {
     "name": "stdout",
     "output_type": "stream",
     "text": [
      "1.3822488324268412\n"
     ]
    }
   ],
   "source": [
    "from sklearn.metrics import mean_squared_error\n",
    "from math import sqrt\n",
    "test['temperature'].mean()\n",
    "rmse=sqrt(mean_squared_error(pred,test['temperature']))\n",
    "print(rmse)"
   ]
  },
  {
   "cell_type": "markdown",
   "metadata": {},
   "source": [
    "### FÜR ARIMA SOLLTEN DIE DATEN AUF STUNDENEBENE ODER VLLT SOGAR TAGESEBENE REDUZIERT WERDEN"
   ]
  },
  {
   "cell_type": "markdown",
   "metadata": {},
   "source": []
  }
 ],
 "metadata": {
  "kernelspec": {
   "display_name": "base",
   "language": "python",
   "name": "python3"
  },
  "language_info": {
   "codemirror_mode": {
    "name": "ipython",
    "version": 3
   },
   "file_extension": ".py",
   "mimetype": "text/x-python",
   "name": "python",
   "nbconvert_exporter": "python",
   "pygments_lexer": "ipython3",
   "version": "3.11.7"
  }
 },
 "nbformat": 4,
 "nbformat_minor": 2
}
