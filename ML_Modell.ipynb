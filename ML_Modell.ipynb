{
 "cells": [
  {
   "cell_type": "code",
   "execution_count": 1,
   "metadata": {},
   "outputs": [
    {
     "data": {
      "text/plain": [
       "True"
      ]
     },
     "execution_count": 1,
     "metadata": {},
     "output_type": "execute_result"
    }
   ],
   "source": [
    "import requests\n",
    "import time\n",
    "import pandas as pd\n",
    "import numpy as np\n",
    "import psycopg2\n",
    "import sqlalchemy\n",
    "from dotenv import load_dotenv\n",
    "import os\n",
    "\n",
    "load_dotenv()"
   ]
  },
  {
   "cell_type": "markdown",
   "metadata": {},
   "source": [
    "### Verbindung zur Datenbank aufbauen und Daten aus der Tabelle laden"
   ]
  },
  {
   "cell_type": "code",
   "execution_count": 2,
   "metadata": {},
   "outputs": [],
   "source": [
    "host = os.getenv('HOST')\n",
    "port = os.getenv('PORT')\n",
    "user = os.getenv('USER')\n",
    "password = os.getenv('PASSWORD')\n",
    "database= os.getenv('DATABASE')"
   ]
  },
  {
   "cell_type": "code",
   "execution_count": 3,
   "metadata": {},
   "outputs": [
    {
     "name": "stdout",
     "output_type": "stream",
     "text": [
      "Verbindung zur Datenbank erfolgreich hergestellt.\n"
     ]
    }
   ],
   "source": [
    "# Verbindung zur Datenbank herstellen\n",
    "connection = psycopg2.connect(host=host, port=port, database=database, user=user, password=password)\n",
    "print(\"Verbindung zur Datenbank erfolgreich hergestellt.\")\n",
    "\n",
    "# Einen Cursor erstellen, um SQL-Abfragen auszuführen\n",
    "cursor = connection.cursor()\n",
    "\n",
    "# SQL SELECT-Abfrage\n",
    "select_query = \"SELECT * FROM value;\"\n",
    "\n",
    "# Abfrage ausführen\n",
    "cursor.execute(select_query)\n",
    "\n",
    "# Ergebnis abrufen\n",
    "rows = cursor.fetchall()\n",
    "\n",
    "# Ergebnis in ein Pandas DataFrame umwandeln\n",
    "df = pd.DataFrame(rows, columns=[desc[0] for desc in cursor.description])\n",
    "\n",
    "# Cursor und Verbindung schließen\n",
    "cursor.close()\n",
    "connection.close()\n"
   ]
  },
  {
   "cell_type": "code",
   "execution_count": 4,
   "metadata": {},
   "outputs": [],
   "source": [
    "# Sicherstellen, dass 'time' als Datetime-Objekt erkannt wird\n",
    "df['time'] = pd.to_datetime(df['time'])"
   ]
  },
  {
   "cell_type": "markdown",
   "metadata": {},
   "source": [
    "### Random Forest Modell"
   ]
  },
  {
   "cell_type": "code",
   "execution_count": 5,
   "metadata": {},
   "outputs": [],
   "source": [
    "import pandas as pd\n",
    "from sklearn.ensemble import RandomForestRegressor\n",
    "from sklearn.model_selection import train_test_split\n",
    "from sklearn.metrics import mean_squared_error, mean_absolute_error\n",
    "\n",
    "\n",
    "# 1. Convert the time column to datetime objects\n",
    "df['time'] = pd.to_datetime(df['time'])\n",
    "\n",
    "# 2. Feature Engineering with Lags\n",
    "lags = [1, 2, 3]  # Lags for 10, 20, and 30 minutes\n",
    "for lag in lags:\n",
    "    df[f'Temperatur_lag_{lag*10}'] = df.groupby('senseid_fk')['temperature'].shift(lag)\n",
    "\n",
    "# 3. Create target variables for each prediction horizon\n",
    "for minutes in [10, 20, 30]:\n",
    "    shift = minutes // 10  # Calculate the shift based on 10-minute intervals\n",
    "    df[f'Temperatur_in_{minutes}_Minuten'] = df.groupby('senseid_fk')['temperature'].shift(-shift)\n",
    "\n",
    "# 4. Remove rows with missing values (introduced by lagging and shifting)\n",
    "df.dropna(inplace=True)"
   ]
  },
  {
   "cell_type": "code",
   "execution_count": 8,
   "metadata": {},
   "outputs": [
    {
     "name": "stdout",
     "output_type": "stream",
     "text": [
      "\n",
      "Temperatur_in_10_Minuten:\n",
      "  Mean Squared Error: 0.6959775182910382\n",
      "  Mean Absolute Error: 0.29405328315365437\n",
      "\n",
      "Temperatur_in_20_Minuten:\n",
      "  Mean Squared Error: 1.1561430452437964\n",
      "  Mean Absolute Error: 0.42871305138224786\n",
      "\n",
      "Temperatur_in_30_Minuten:\n",
      "  Mean Squared Error: 1.5624276179679655\n",
      "  Mean Absolute Error: 0.5264186126191158\n"
     ]
    }
   ],
   "source": [
    "# 5. Define target variables and create a dictionary for models\n",
    "target_variables = ['Temperatur_in_10_Minuten', 'Temperatur_in_20_Minuten', 'Temperatur_in_30_Minuten']\n",
    "models = {}\n",
    "\n",
    "# 6. Train and evaluate models for each target variable\n",
    "for target in target_variables:\n",
    "    # 6.1. Select features and target variable\n",
    "    X = df.drop(target_variables + [\"time\", \"senseid_fk\"], axis=1)\n",
    "    y = df[target]\n",
    "\n",
    "    # 6.2. Split data into training and testing sets\n",
    "    X_train, X_test, y_train, y_test = train_test_split(X, y, test_size=0.2, random_state=42)\n",
    "\n",
    "    # 6.3. Create and train the Random Forest model\n",
    "    model = RandomForestRegressor(n_estimators=400,max_depth=40, random_state=42)\n",
    "    model.fit(X_train, y_train)\n",
    "\n",
    "    # 6.4. Make predictions and evaluate\n",
    "    y_pred = model.predict(X_test)\n",
    "    mse = mean_squared_error(y_test, y_pred)\n",
    "    mae = mean_absolute_error(y_test, y_pred)\n",
    "    print(f\"\\n{target}:\")\n",
    "    print(f\"  Mean Squared Error: {mse}\")\n",
    "    print(f\"  Mean Absolute Error: {mae}\")\n",
    "\n",
    "    # 6.5. Store the trained model\n",
    "    models[target] = model"
   ]
  },
  {
   "cell_type": "markdown",
   "metadata": {},
   "source": [
    "### Mit GridSearch und CV"
   ]
  },
  {
   "cell_type": "code",
   "execution_count": null,
   "metadata": {},
   "outputs": [
    {
     "name": "stdout",
     "output_type": "stream",
     "text": [
      "\n",
      "Temperatur_in_10_Minuten:\n",
      "  Best Parameters: {'max_depth': 30, 'min_samples_leaf': 1, 'min_samples_split': 2, 'n_estimators': 200}\n",
      "  Mean Squared Error: 0.7231009365555813\n",
      "  Mean Absolute Error: 0.29696808916272927\n",
      "\n",
      "Temperatur_in_20_Minuten:\n",
      "  Best Parameters: {'max_depth': 30, 'min_samples_leaf': 1, 'min_samples_split': 2, 'n_estimators': 200}\n",
      "  Mean Squared Error: 1.1219574791632885\n",
      "  Mean Absolute Error: 0.4293155597508828\n",
      "\n",
      "Temperatur_in_30_Minuten:\n",
      "  Best Parameters: {'max_depth': 30, 'min_samples_leaf': 1, 'min_samples_split': 2, 'n_estimators': 200}\n",
      "  Mean Squared Error: 1.3734161227737929\n",
      "  Mean Absolute Error: 0.5241237983584991\n"
     ]
    }
   ],
   "source": [
    "# from sklearn.ensemble import RandomForestRegressor\n",
    "# from sklearn.model_selection import train_test_split, GridSearchCV\n",
    "# from sklearn.metrics import mean_squared_error, mean_absolute_error\n",
    "\n",
    "# # 5. Define target variables and create a dictionary for models\n",
    "# target_variables = ['Temperatur_in_10_Minuten', 'Temperatur_in_20_Minuten', 'Temperatur_in_30_Minuten']\n",
    "# models = {}\n",
    "\n",
    "# # Hyperparameter grid for Random Forest\n",
    "# param_grid = {\n",
    "#     'n_estimators': [300, 400],\n",
    "#     'max_depth': [30, 40, 50, 60, 70],\n",
    "# }\n",
    "\n",
    "# # 6. Train and evaluate models for each target variable\n",
    "# for target in target_variables:\n",
    "#     # 6.1. Select features and target variable\n",
    "#     X = df.drop(target_variables + [\"time\", \"senseid_fk\"], axis=1)\n",
    "#     y = df[target]\n",
    "\n",
    "#     # 6.2. Split data into training and testing sets\n",
    "#     X_train, X_test, y_train, y_test = train_test_split(X, y, test_size=0.2, random_state=42)\n",
    "\n",
    "#     # 6.3. Perform GridSearchCV to find the best hyperparameters\n",
    "#     rf = RandomForestRegressor(random_state=42)\n",
    "#     grid_search = GridSearchCV(estimator=rf, param_grid=param_grid, cv=5, n_jobs=-1, scoring='neg_mean_squared_error')\n",
    "#     grid_search.fit(X_train, y_train)\n",
    "\n",
    "#     # 6.4. Get the best model from grid search\n",
    "#     best_model = grid_search.best_estimator_\n",
    "\n",
    "#     # 6.5. Make predictions and evaluate\n",
    "#     y_pred = best_model.predict(X_test)\n",
    "#     mse = mean_squared_error(y_test, y_pred)\n",
    "#     mae = mean_absolute_error(y_test, y_pred)\n",
    "#     print(f\"\\n{target}:\")\n",
    "#     print(f\"  Best Parameters: {grid_search.best_params_}\")\n",
    "#     print(f\"  Mean Squared Error: {mse}\")\n",
    "#     print(f\"  Mean Absolute Error: {mae}\")\n",
    "\n",
    "#     # 6.6. Store the trained model\n",
    "#     models[target] = best_model\n"
   ]
  },
  {
   "cell_type": "markdown",
   "metadata": {},
   "source": [
    "### ARIMA"
   ]
  },
  {
   "cell_type": "code",
   "execution_count": 5,
   "metadata": {},
   "outputs": [],
   "source": [
    "import matplotlib.pyplot as plt\n",
    "from statsmodels.graphics.tsaplots import plot_acf, plot_pacf\n",
    "from statsmodels.tsa.arima.model import ARIMA\n",
    "from statsmodels.tsa.stattools import adfuller\n",
    "from sklearn.metrics import mean_squared_error\n",
    "import warnings\n",
    "warnings.filterwarnings(\"ignore\")"
   ]
  },
  {
   "cell_type": "code",
   "execution_count": 6,
   "metadata": {},
   "outputs": [
    {
     "data": {
      "text/html": [
       "<div>\n",
       "<style scoped>\n",
       "    .dataframe tbody tr th:only-of-type {\n",
       "        vertical-align: middle;\n",
       "    }\n",
       "\n",
       "    .dataframe tbody tr th {\n",
       "        vertical-align: top;\n",
       "    }\n",
       "\n",
       "    .dataframe thead th {\n",
       "        text-align: right;\n",
       "    }\n",
       "</style>\n",
       "<table border=\"1\" class=\"dataframe\">\n",
       "  <thead>\n",
       "    <tr style=\"text-align: right;\">\n",
       "      <th></th>\n",
       "      <th>index</th>\n",
       "      <th>time</th>\n",
       "      <th>temperature</th>\n",
       "      <th>luftfeuchtigkeit</th>\n",
       "      <th>pm10</th>\n",
       "      <th>pm2_5</th>\n",
       "      <th>senseid_fk</th>\n",
       "    </tr>\n",
       "  </thead>\n",
       "  <tbody>\n",
       "    <tr>\n",
       "      <th>0</th>\n",
       "      <td>1</td>\n",
       "      <td>2024-05-15 16:32:38</td>\n",
       "      <td>18.30</td>\n",
       "      <td>99.90</td>\n",
       "      <td>3.40</td>\n",
       "      <td>3.10</td>\n",
       "      <td>5ae4a726223bd80019a367a6</td>\n",
       "    </tr>\n",
       "    <tr>\n",
       "      <th>1</th>\n",
       "      <td>2</td>\n",
       "      <td>2024-05-15 16:32:39</td>\n",
       "      <td>17.90</td>\n",
       "      <td>75.63</td>\n",
       "      <td>9.45</td>\n",
       "      <td>8.20</td>\n",
       "      <td>5dde9523ba7944001da4150e</td>\n",
       "    </tr>\n",
       "    <tr>\n",
       "      <th>2</th>\n",
       "      <td>3</td>\n",
       "      <td>2024-05-15 16:32:40</td>\n",
       "      <td>22.90</td>\n",
       "      <td>55.90</td>\n",
       "      <td>3.23</td>\n",
       "      <td>2.93</td>\n",
       "      <td>5c08379b1c28f9001a3f580c</td>\n",
       "    </tr>\n",
       "    <tr>\n",
       "      <th>3</th>\n",
       "      <td>4</td>\n",
       "      <td>2024-05-15 16:32:40</td>\n",
       "      <td>17.24</td>\n",
       "      <td>69.30</td>\n",
       "      <td>10.77</td>\n",
       "      <td>3.38</td>\n",
       "      <td>5b4d11485dc1ec001b5452c7</td>\n",
       "    </tr>\n",
       "    <tr>\n",
       "      <th>4</th>\n",
       "      <td>5</td>\n",
       "      <td>2024-05-15 16:32:41</td>\n",
       "      <td>26.30</td>\n",
       "      <td>30.70</td>\n",
       "      <td>0.00</td>\n",
       "      <td>0.00</td>\n",
       "      <td>65e8d93acbf5700007f920ca</td>\n",
       "    </tr>\n",
       "  </tbody>\n",
       "</table>\n",
       "</div>"
      ],
      "text/plain": [
       "   index                time  temperature  luftfeuchtigkeit   pm10  pm2_5  \\\n",
       "0      1 2024-05-15 16:32:38        18.30             99.90   3.40   3.10   \n",
       "1      2 2024-05-15 16:32:39        17.90             75.63   9.45   8.20   \n",
       "2      3 2024-05-15 16:32:40        22.90             55.90   3.23   2.93   \n",
       "3      4 2024-05-15 16:32:40        17.24             69.30  10.77   3.38   \n",
       "4      5 2024-05-15 16:32:41        26.30             30.70   0.00   0.00   \n",
       "\n",
       "                 senseid_fk  \n",
       "0  5ae4a726223bd80019a367a6  \n",
       "1  5dde9523ba7944001da4150e  \n",
       "2  5c08379b1c28f9001a3f580c  \n",
       "3  5b4d11485dc1ec001b5452c7  \n",
       "4  65e8d93acbf5700007f920ca  "
      ]
     },
     "execution_count": 6,
     "metadata": {},
     "output_type": "execute_result"
    }
   ],
   "source": [
    "df.head()"
   ]
  },
  {
   "cell_type": "code",
   "execution_count": 39,
   "metadata": {},
   "outputs": [],
   "source": [
    "# Daten für eine Wetterstation extrahieren\n",
    "station_id = \"5ae4a726223bd80019a367a6\" \n",
    "station_data = df[df['senseid_fk'] == station_id]\n",
    "\n",
    "# Sortieren nach Zeit\n",
    "station_data = station_data.sort_values(by='time')\n",
    "\n",
    "station_data.drop(columns=['senseid_fk'], inplace=True)"
   ]
  },
  {
   "cell_type": "code",
   "execution_count": 40,
   "metadata": {},
   "outputs": [],
   "source": [
    "# Erstelle eine neue Spalte 'date' für das Datum\n",
    "station_data['date'] = station_data['time'].dt.date\n",
    "\n",
    "# Gruppiere nach 'date' und berechne den Durchschnitt\n",
    "daily_average = station_data.groupby('date').mean().reset_index()\n",
    "\n",
    "# Falls 'index' nicht mehr benötigt wird\n",
    "daily_average.drop(columns=['index'], inplace=True)"
   ]
  },
  {
   "cell_type": "code",
   "execution_count": 41,
   "metadata": {},
   "outputs": [
    {
     "data": {
      "text/html": [
       "<div>\n",
       "<style scoped>\n",
       "    .dataframe tbody tr th:only-of-type {\n",
       "        vertical-align: middle;\n",
       "    }\n",
       "\n",
       "    .dataframe tbody tr th {\n",
       "        vertical-align: top;\n",
       "    }\n",
       "\n",
       "    .dataframe thead th {\n",
       "        text-align: right;\n",
       "    }\n",
       "</style>\n",
       "<table border=\"1\" class=\"dataframe\">\n",
       "  <thead>\n",
       "    <tr style=\"text-align: right;\">\n",
       "      <th></th>\n",
       "      <th>date</th>\n",
       "      <th>time</th>\n",
       "      <th>temperature</th>\n",
       "      <th>luftfeuchtigkeit</th>\n",
       "      <th>pm10</th>\n",
       "      <th>pm2_5</th>\n",
       "    </tr>\n",
       "  </thead>\n",
       "  <tbody>\n",
       "    <tr>\n",
       "      <th>0</th>\n",
       "      <td>2023-01-14</td>\n",
       "      <td>2023-01-14 18:43:20.670726656</td>\n",
       "      <td>10.514453</td>\n",
       "      <td>99.900000</td>\n",
       "      <td>1.732187</td>\n",
       "      <td>0.665586</td>\n",
       "    </tr>\n",
       "    <tr>\n",
       "      <th>1</th>\n",
       "      <td>2023-01-15</td>\n",
       "      <td>2023-01-15 12:00:21.312506112</td>\n",
       "      <td>6.525744</td>\n",
       "      <td>99.900000</td>\n",
       "      <td>4.233117</td>\n",
       "      <td>0.870946</td>\n",
       "    </tr>\n",
       "    <tr>\n",
       "      <th>2</th>\n",
       "      <td>2023-01-16</td>\n",
       "      <td>2023-01-16 11:59:47.438309888</td>\n",
       "      <td>5.091725</td>\n",
       "      <td>99.900000</td>\n",
       "      <td>3.442570</td>\n",
       "      <td>1.277852</td>\n",
       "    </tr>\n",
       "    <tr>\n",
       "      <th>3</th>\n",
       "      <td>2023-01-17</td>\n",
       "      <td>2023-01-17 12:03:14.077237504</td>\n",
       "      <td>2.712914</td>\n",
       "      <td>99.900000</td>\n",
       "      <td>9.385567</td>\n",
       "      <td>4.989825</td>\n",
       "    </tr>\n",
       "    <tr>\n",
       "      <th>4</th>\n",
       "      <td>2023-01-18</td>\n",
       "      <td>2023-01-18 12:00:31.452937472</td>\n",
       "      <td>1.000697</td>\n",
       "      <td>99.731533</td>\n",
       "      <td>12.459774</td>\n",
       "      <td>6.933990</td>\n",
       "    </tr>\n",
       "  </tbody>\n",
       "</table>\n",
       "</div>"
      ],
      "text/plain": [
       "         date                          time  temperature  luftfeuchtigkeit  \\\n",
       "0  2023-01-14 2023-01-14 18:43:20.670726656    10.514453         99.900000   \n",
       "1  2023-01-15 2023-01-15 12:00:21.312506112     6.525744         99.900000   \n",
       "2  2023-01-16 2023-01-16 11:59:47.438309888     5.091725         99.900000   \n",
       "3  2023-01-17 2023-01-17 12:03:14.077237504     2.712914         99.900000   \n",
       "4  2023-01-18 2023-01-18 12:00:31.452937472     1.000697         99.731533   \n",
       "\n",
       "        pm10     pm2_5  \n",
       "0   1.732187  0.665586  \n",
       "1   4.233117  0.870946  \n",
       "2   3.442570  1.277852  \n",
       "3   9.385567  4.989825  \n",
       "4  12.459774  6.933990  "
      ]
     },
     "execution_count": 41,
     "metadata": {},
     "output_type": "execute_result"
    }
   ],
   "source": [
    "daily_average.head()"
   ]
  },
  {
   "cell_type": "code",
   "execution_count": 42,
   "metadata": {},
   "outputs": [],
   "source": [
    "# # Zeit und Temperatur als Zeitreihe\n",
    "daily_average.set_index('time', inplace=True)\n",
    "temperature_series = daily_average['temperature']"
   ]
  },
  {
   "cell_type": "code",
   "execution_count": 43,
   "metadata": {},
   "outputs": [
    {
     "data": {
      "text/plain": [
       "<Axes: xlabel='time'>"
      ]
     },
     "execution_count": 43,
     "metadata": {},
     "output_type": "execute_result"
    },
    {
     "data": {
      "image/png": "[encoded data removed]",
      "text/plain": [
       "<Figure size 1200x500 with 1 Axes>"
      ]
     },
     "metadata": {},
     "output_type": "display_data"
    }
   ],
   "source": [
    "daily_average['temperature'].plot(figsize=(12,5))"
   ]
  },
  {
   "cell_type": "code",
   "execution_count": 44,
   "metadata": {},
   "outputs": [
    {
     "name": "stdout",
     "output_type": "stream",
     "text": [
      "1. ADF :  -2.54527947566803\n",
      "2. P-Value :  0.10484231961141982\n",
      "3. Num Of Lags :  3\n",
      "4. Num Of Observations Used For ADF Regression: 315\n",
      "5. Critical Values :\n",
      "\t 1% :  -3.451281394993741\n",
      "\t 5% :  -2.8707595072926293\n",
      "\t 10% :  -2.571682118921643\n"
     ]
    }
   ],
   "source": [
    "from statsmodels.tsa.stattools import adfuller\n",
    "def adf_test(dataset):\n",
    "     dftest = adfuller(dataset, autolag = 'AIC')\n",
    "     print(\"1. ADF : \",dftest[0])\n",
    "     print(\"2. P-Value : \", dftest[1])\n",
    "     print(\"3. Num Of Lags : \", dftest[2])\n",
    "     print(\"4. Num Of Observations Used For ADF Regression:\",      dftest[3])\n",
    "     print(\"5. Critical Values :\")\n",
    "     for key, val in dftest[4].items():\n",
    "         print(\"\\t\",key, \": \", val)\n",
    "adf_test(daily_average['temperature'])"
   ]
  },
  {
   "cell_type": "markdown",
   "metadata": {},
   "source": [
    "Order für ARIMA"
   ]
  },
  {
   "cell_type": "code",
   "execution_count": 45,
   "metadata": {},
   "outputs": [],
   "source": [
    "from pmdarima import auto_arima"
   ]
  },
  {
   "cell_type": "code",
   "execution_count": 46,
   "metadata": {},
   "outputs": [
    {
     "name": "stdout",
     "output_type": "stream",
     "text": [
      "Performing stepwise search to minimize aic\n",
      " ARIMA(2,1,2)(0,0,0)[0] intercept   : AIC=1438.819, Time=0.39 sec\n",
      " ARIMA(0,1,0)(0,0,0)[0] intercept   : AIC=1457.287, Time=0.03 sec\n",
      " ARIMA(1,1,0)(0,0,0)[0] intercept   : AIC=1459.272, Time=0.05 sec\n",
      " ARIMA(0,1,1)(0,0,0)[0] intercept   : AIC=1459.267, Time=0.09 sec\n",
      " ARIMA(0,1,0)(0,0,0)[0]             : AIC=1455.293, Time=0.03 sec\n",
      " ARIMA(1,1,2)(0,0,0)[0] intercept   : AIC=1438.591, Time=0.23 sec\n",
      " ARIMA(0,1,2)(0,0,0)[0] intercept   : AIC=1451.430, Time=0.11 sec\n",
      " ARIMA(1,1,1)(0,0,0)[0] intercept   : AIC=1442.540, Time=0.31 sec\n",
      " ARIMA(1,1,3)(0,0,0)[0] intercept   : AIC=1436.316, Time=0.32 sec\n",
      " ARIMA(0,1,3)(0,0,0)[0] intercept   : AIC=1435.223, Time=0.15 sec\n",
      " ARIMA(0,1,4)(0,0,0)[0] intercept   : AIC=1436.655, Time=0.17 sec\n",
      " ARIMA(1,1,4)(0,0,0)[0] intercept   : AIC=1438.101, Time=0.49 sec\n",
      " ARIMA(0,1,3)(0,0,0)[0]             : AIC=1433.453, Time=0.12 sec\n",
      " ARIMA(0,1,2)(0,0,0)[0]             : AIC=1449.483, Time=0.06 sec\n",
      " ARIMA(1,1,3)(0,0,0)[0]             : AIC=1434.634, Time=0.15 sec\n",
      " ARIMA(0,1,4)(0,0,0)[0]             : AIC=1434.935, Time=0.10 sec\n",
      " ARIMA(1,1,2)(0,0,0)[0]             : AIC=1436.964, Time=0.10 sec\n",
      " ARIMA(1,1,4)(0,0,0)[0]             : AIC=1436.449, Time=0.28 sec\n",
      "\n",
      "Best model:  ARIMA(0,1,3)(0,0,0)[0]          \n",
      "Total fit time: 3.206 seconds\n"
     ]
    },
    {
     "data": {
      "text/html": [
       "<table class=\"simpletable\">\n",
       "<caption>SARIMAX Results</caption>\n",
       "<tr>\n",
       "  <th>Dep. Variable:</th>           <td>y</td>        <th>  No. Observations:  </th>    <td>319</td>  \n",
       "</tr>\n",
       "<tr>\n",
       "  <th>Model:</th>           <td>SARIMAX(0, 1, 3)</td> <th>  Log Likelihood     </th> <td>-712.727</td>\n",
       "</tr>\n",
       "<tr>\n",
       "  <th>Date:</th>            <td>Thu, 06 Jun 2024</td> <th>  AIC                </th> <td>1433.453</td>\n",
       "</tr>\n",
       "<tr>\n",
       "  <th>Time:</th>                <td>09:13:19</td>     <th>  BIC                </th> <td>1448.501</td>\n",
       "</tr>\n",
       "<tr>\n",
       "  <th>Sample:</th>                  <td>0</td>        <th>  HQIC               </th> <td>1439.463</td>\n",
       "</tr>\n",
       "<tr>\n",
       "  <th></th>                      <td> - 319</td>      <th>                     </th>     <td> </td>   \n",
       "</tr>\n",
       "<tr>\n",
       "  <th>Covariance Type:</th>        <td>opg</td>       <th>                     </th>     <td> </td>   \n",
       "</tr>\n",
       "</table>\n",
       "<table class=\"simpletable\">\n",
       "<tr>\n",
       "     <td></td>       <th>coef</th>     <th>std err</th>      <th>z</th>      <th>P>|z|</th>  <th>[0.025</th>    <th>0.975]</th>  \n",
       "</tr>\n",
       "<tr>\n",
       "  <th>ma.L1</th>  <td>   -0.0832</td> <td>    0.054</td> <td>   -1.553</td> <td> 0.120</td> <td>   -0.188</td> <td>    0.022</td>\n",
       "</tr>\n",
       "<tr>\n",
       "  <th>ma.L2</th>  <td>   -0.2080</td> <td>    0.049</td> <td>   -4.277</td> <td> 0.000</td> <td>   -0.303</td> <td>   -0.113</td>\n",
       "</tr>\n",
       "<tr>\n",
       "  <th>ma.L3</th>  <td>   -0.2362</td> <td>    0.054</td> <td>   -4.372</td> <td> 0.000</td> <td>   -0.342</td> <td>   -0.130</td>\n",
       "</tr>\n",
       "<tr>\n",
       "  <th>sigma2</th> <td>    5.1736</td> <td>    0.291</td> <td>   17.794</td> <td> 0.000</td> <td>    4.604</td> <td>    5.743</td>\n",
       "</tr>\n",
       "</table>\n",
       "<table class=\"simpletable\">\n",
       "<tr>\n",
       "  <th>Ljung-Box (L1) (Q):</th>     <td>0.04</td> <th>  Jarque-Bera (JB):  </th> <td>88.85</td>\n",
       "</tr>\n",
       "<tr>\n",
       "  <th>Prob(Q):</th>                <td>0.84</td> <th>  Prob(JB):          </th> <td>0.00</td> \n",
       "</tr>\n",
       "<tr>\n",
       "  <th>Heteroskedasticity (H):</th> <td>1.12</td> <th>  Skew:              </th> <td>0.06</td> \n",
       "</tr>\n",
       "<tr>\n",
       "  <th>Prob(H) (two-sided):</th>    <td>0.56</td> <th>  Kurtosis:          </th> <td>5.59</td> \n",
       "</tr>\n",
       "</table><br/><br/>Warnings:<br/>[1] Covariance matrix calculated using the outer product of gradients (complex-step)."
      ],
      "text/latex": [
       "\\begin{center}\n",
       "\\begin{tabular}{lclc}\n",
       "\\toprule\n",
       "\\textbf{Dep. Variable:}          &        y         & \\textbf{  No. Observations:  } &    319      \\\\\n",
       "\\textbf{Model:}                  & SARIMAX(0, 1, 3) & \\textbf{  Log Likelihood     } &  -712.727   \\\\\n",
       "\\textbf{Date:}                   & Thu, 06 Jun 2024 & \\textbf{  AIC                } &  1433.453   \\\\\n",
       "\\textbf{Time:}                   &     09:13:19     & \\textbf{  BIC                } &  1448.501   \\\\\n",
       "\\textbf{Sample:}                 &        0         & \\textbf{  HQIC               } &  1439.463   \\\\\n",
       "\\textbf{}                        &       - 319      & \\textbf{                     } &             \\\\\n",
       "\\textbf{Covariance Type:}        &       opg        & \\textbf{                     } &             \\\\\n",
       "\\bottomrule\n",
       "\\end{tabular}\n",
       "\\begin{tabular}{lcccccc}\n",
       "                & \\textbf{coef} & \\textbf{std err} & \\textbf{z} & \\textbf{P$> |$z$|$} & \\textbf{[0.025} & \\textbf{0.975]}  \\\\\n",
       "\\midrule\n",
       "\\textbf{ma.L1}  &      -0.0832  &        0.054     &    -1.553  &         0.120        &       -0.188    &        0.022     \\\\\n",
       "\\textbf{ma.L2}  &      -0.2080  &        0.049     &    -4.277  &         0.000        &       -0.303    &       -0.113     \\\\\n",
       "\\textbf{ma.L3}  &      -0.2362  &        0.054     &    -4.372  &         0.000        &       -0.342    &       -0.130     \\\\\n",
       "\\textbf{sigma2} &       5.1736  &        0.291     &    17.794  &         0.000        &        4.604    &        5.743     \\\\\n",
       "\\bottomrule\n",
       "\\end{tabular}\n",
       "\\begin{tabular}{lclc}\n",
       "\\textbf{Ljung-Box (L1) (Q):}     & 0.04 & \\textbf{  Jarque-Bera (JB):  } & 88.85  \\\\\n",
       "\\textbf{Prob(Q):}                & 0.84 & \\textbf{  Prob(JB):          } &  0.00  \\\\\n",
       "\\textbf{Heteroskedasticity (H):} & 1.12 & \\textbf{  Skew:              } &  0.06  \\\\\n",
       "\\textbf{Prob(H) (two-sided):}    & 0.56 & \\textbf{  Kurtosis:          } &  5.59  \\\\\n",
       "\\bottomrule\n",
       "\\end{tabular}\n",
       "%\\caption{SARIMAX Results}\n",
       "\\end{center}\n",
       "\n",
       "Warnings: \\newline\n",
       " [1] Covariance matrix calculated using the outer product of gradients (complex-step)."
      ],
      "text/plain": [
       "<class 'statsmodels.iolib.summary.Summary'>\n",
       "\"\"\"\n",
       "                               SARIMAX Results                                \n",
       "==============================================================================\n",
       "Dep. Variable:                      y   No. Observations:                  319\n",
       "Model:               SARIMAX(0, 1, 3)   Log Likelihood                -712.727\n",
       "Date:                Thu, 06 Jun 2024   AIC                           1433.453\n",
       "Time:                        09:13:19   BIC                           1448.501\n",
       "Sample:                             0   HQIC                          1439.463\n",
       "                                - 319                                         \n",
       "Covariance Type:                  opg                                         \n",
       "==============================================================================\n",
       "                 coef    std err          z      P>|z|      [0.025      0.975]\n",
       "------------------------------------------------------------------------------\n",
       "ma.L1         -0.0832      0.054     -1.553      0.120      -0.188       0.022\n",
       "ma.L2         -0.2080      0.049     -4.277      0.000      -0.303      -0.113\n",
       "ma.L3         -0.2362      0.054     -4.372      0.000      -0.342      -0.130\n",
       "sigma2         5.1736      0.291     17.794      0.000       4.604       5.743\n",
       "===================================================================================\n",
       "Ljung-Box (L1) (Q):                   0.04   Jarque-Bera (JB):                88.85\n",
       "Prob(Q):                              0.84   Prob(JB):                         0.00\n",
       "Heteroskedasticity (H):               1.12   Skew:                             0.06\n",
       "Prob(H) (two-sided):                  0.56   Kurtosis:                         5.59\n",
       "===================================================================================\n",
       "\n",
       "Warnings:\n",
       "[1] Covariance matrix calculated using the outer product of gradients (complex-step).\n",
       "\"\"\""
      ]
     },
     "execution_count": 46,
     "metadata": {},
     "output_type": "execute_result"
    }
   ],
   "source": [
    "stepwise_fit = auto_arima(daily_average['temperature'], trace=True, suppress_warnings=True)\n",
    "stepwise_fit.summary()"
   ]
  },
  {
   "cell_type": "code",
   "execution_count": 30,
   "metadata": {},
   "outputs": [],
   "source": [
    "from statsmodels.tsa.arima.model import ARIMA"
   ]
  },
  {
   "cell_type": "code",
   "execution_count": 47,
   "metadata": {},
   "outputs": [
    {
     "name": "stdout",
     "output_type": "stream",
     "text": [
      "(289, 5) (30, 5)\n"
     ]
    }
   ],
   "source": [
    "train=daily_average.iloc[:-30]\n",
    "test=daily_average.iloc[-30:]\n",
    "print(train.shape,test.shape)\n"
   ]
  },
  {
   "cell_type": "code",
   "execution_count": 56,
   "metadata": {},
   "outputs": [
    {
     "data": {
      "text/html": [
       "<table class=\"simpletable\">\n",
       "<caption>SARIMAX Results</caption>\n",
       "<tr>\n",
       "  <th>Dep. Variable:</th>      <td>temperature</td>   <th>  No. Observations:  </th>    <td>289</td>  \n",
       "</tr>\n",
       "<tr>\n",
       "  <th>Model:</th>            <td>ARIMA(5, 1, 2)</td>  <th>  Log Likelihood     </th> <td>-644.858</td>\n",
       "</tr>\n",
       "<tr>\n",
       "  <th>Date:</th>            <td>Thu, 06 Jun 2024</td> <th>  AIC                </th> <td>1305.715</td>\n",
       "</tr>\n",
       "<tr>\n",
       "  <th>Time:</th>                <td>09:14:48</td>     <th>  BIC                </th> <td>1335.019</td>\n",
       "</tr>\n",
       "<tr>\n",
       "  <th>Sample:</th>                  <td>0</td>        <th>  HQIC               </th> <td>1317.458</td>\n",
       "</tr>\n",
       "<tr>\n",
       "  <th></th>                      <td> - 289</td>      <th>                     </th>     <td> </td>   \n",
       "</tr>\n",
       "<tr>\n",
       "  <th>Covariance Type:</th>        <td>opg</td>       <th>                     </th>     <td> </td>   \n",
       "</tr>\n",
       "</table>\n",
       "<table class=\"simpletable\">\n",
       "<tr>\n",
       "     <td></td>       <th>coef</th>     <th>std err</th>      <th>z</th>      <th>P>|z|</th>  <th>[0.025</th>    <th>0.975]</th>  \n",
       "</tr>\n",
       "<tr>\n",
       "  <th>ar.L1</th>  <td>    0.6799</td> <td>    0.055</td> <td>   12.297</td> <td> 0.000</td> <td>    0.572</td> <td>    0.788</td>\n",
       "</tr>\n",
       "<tr>\n",
       "  <th>ar.L2</th>  <td>   -1.0346</td> <td>    0.069</td> <td>  -14.920</td> <td> 0.000</td> <td>   -1.171</td> <td>   -0.899</td>\n",
       "</tr>\n",
       "<tr>\n",
       "  <th>ar.L3</th>  <td>   -0.1527</td> <td>    0.090</td> <td>   -1.694</td> <td> 0.090</td> <td>   -0.329</td> <td>    0.024</td>\n",
       "</tr>\n",
       "<tr>\n",
       "  <th>ar.L4</th>  <td>   -0.0342</td> <td>    0.075</td> <td>   -0.456</td> <td> 0.648</td> <td>   -0.181</td> <td>    0.112</td>\n",
       "</tr>\n",
       "<tr>\n",
       "  <th>ar.L5</th>  <td>   -0.1520</td> <td>    0.063</td> <td>   -2.415</td> <td> 0.016</td> <td>   -0.275</td> <td>   -0.029</td>\n",
       "</tr>\n",
       "<tr>\n",
       "  <th>ma.L1</th>  <td>   -0.7574</td> <td>    0.021</td> <td>  -35.707</td> <td> 0.000</td> <td>   -0.799</td> <td>   -0.716</td>\n",
       "</tr>\n",
       "<tr>\n",
       "  <th>ma.L2</th>  <td>    0.9883</td> <td>    0.040</td> <td>   25.017</td> <td> 0.000</td> <td>    0.911</td> <td>    1.066</td>\n",
       "</tr>\n",
       "<tr>\n",
       "  <th>sigma2</th> <td>    5.0032</td> <td>    0.315</td> <td>   15.881</td> <td> 0.000</td> <td>    4.386</td> <td>    5.621</td>\n",
       "</tr>\n",
       "</table>\n",
       "<table class=\"simpletable\">\n",
       "<tr>\n",
       "  <th>Ljung-Box (L1) (Q):</th>     <td>0.00</td> <th>  Jarque-Bera (JB):  </th> <td>106.07</td>\n",
       "</tr>\n",
       "<tr>\n",
       "  <th>Prob(Q):</th>                <td>0.95</td> <th>  Prob(JB):          </th>  <td>0.00</td> \n",
       "</tr>\n",
       "<tr>\n",
       "  <th>Heteroskedasticity (H):</th> <td>1.16</td> <th>  Skew:              </th>  <td>0.25</td> \n",
       "</tr>\n",
       "<tr>\n",
       "  <th>Prob(H) (two-sided):</th>    <td>0.46</td> <th>  Kurtosis:          </th>  <td>5.93</td> \n",
       "</tr>\n",
       "</table><br/><br/>Warnings:<br/>[1] Covariance matrix calculated using the outer product of gradients (complex-step)."
      ],
      "text/latex": [
       "\\begin{center}\n",
       "\\begin{tabular}{lclc}\n",
       "\\toprule\n",
       "\\textbf{Dep. Variable:}          &   temperature    & \\textbf{  No. Observations:  } &    289      \\\\\n",
       "\\textbf{Model:}                  &  ARIMA(5, 1, 2)  & \\textbf{  Log Likelihood     } &  -644.858   \\\\\n",
       "\\textbf{Date:}                   & Thu, 06 Jun 2024 & \\textbf{  AIC                } &  1305.715   \\\\\n",
       "\\textbf{Time:}                   &     09:14:48     & \\textbf{  BIC                } &  1335.019   \\\\\n",
       "\\textbf{Sample:}                 &        0         & \\textbf{  HQIC               } &  1317.458   \\\\\n",
       "\\textbf{}                        &       - 289      & \\textbf{                     } &             \\\\\n",
       "\\textbf{Covariance Type:}        &       opg        & \\textbf{                     } &             \\\\\n",
       "\\bottomrule\n",
       "\\end{tabular}\n",
       "\\begin{tabular}{lcccccc}\n",
       "                & \\textbf{coef} & \\textbf{std err} & \\textbf{z} & \\textbf{P$> |$z$|$} & \\textbf{[0.025} & \\textbf{0.975]}  \\\\\n",
       "\\midrule\n",
       "\\textbf{ar.L1}  &       0.6799  &        0.055     &    12.297  &         0.000        &        0.572    &        0.788     \\\\\n",
       "\\textbf{ar.L2}  &      -1.0346  &        0.069     &   -14.920  &         0.000        &       -1.171    &       -0.899     \\\\\n",
       "\\textbf{ar.L3}  &      -0.1527  &        0.090     &    -1.694  &         0.090        &       -0.329    &        0.024     \\\\\n",
       "\\textbf{ar.L4}  &      -0.0342  &        0.075     &    -0.456  &         0.648        &       -0.181    &        0.112     \\\\\n",
       "\\textbf{ar.L5}  &      -0.1520  &        0.063     &    -2.415  &         0.016        &       -0.275    &       -0.029     \\\\\n",
       "\\textbf{ma.L1}  &      -0.7574  &        0.021     &   -35.707  &         0.000        &       -0.799    &       -0.716     \\\\\n",
       "\\textbf{ma.L2}  &       0.9883  &        0.040     &    25.017  &         0.000        &        0.911    &        1.066     \\\\\n",
       "\\textbf{sigma2} &       5.0032  &        0.315     &    15.881  &         0.000        &        4.386    &        5.621     \\\\\n",
       "\\bottomrule\n",
       "\\end{tabular}\n",
       "\\begin{tabular}{lclc}\n",
       "\\textbf{Ljung-Box (L1) (Q):}     & 0.00 & \\textbf{  Jarque-Bera (JB):  } & 106.07  \\\\\n",
       "\\textbf{Prob(Q):}                & 0.95 & \\textbf{  Prob(JB):          } &  0.00   \\\\\n",
       "\\textbf{Heteroskedasticity (H):} & 1.16 & \\textbf{  Skew:              } &  0.25   \\\\\n",
       "\\textbf{Prob(H) (two-sided):}    & 0.46 & \\textbf{  Kurtosis:          } &  5.93   \\\\\n",
       "\\bottomrule\n",
       "\\end{tabular}\n",
       "%\\caption{SARIMAX Results}\n",
       "\\end{center}\n",
       "\n",
       "Warnings: \\newline\n",
       " [1] Covariance matrix calculated using the outer product of gradients (complex-step)."
      ],
      "text/plain": [
       "<class 'statsmodels.iolib.summary.Summary'>\n",
       "\"\"\"\n",
       "                               SARIMAX Results                                \n",
       "==============================================================================\n",
       "Dep. Variable:            temperature   No. Observations:                  289\n",
       "Model:                 ARIMA(5, 1, 2)   Log Likelihood                -644.858\n",
       "Date:                Thu, 06 Jun 2024   AIC                           1305.715\n",
       "Time:                        09:14:48   BIC                           1335.019\n",
       "Sample:                             0   HQIC                          1317.458\n",
       "                                - 289                                         \n",
       "Covariance Type:                  opg                                         \n",
       "==============================================================================\n",
       "                 coef    std err          z      P>|z|      [0.025      0.975]\n",
       "------------------------------------------------------------------------------\n",
       "ar.L1          0.6799      0.055     12.297      0.000       0.572       0.788\n",
       "ar.L2         -1.0346      0.069    -14.920      0.000      -1.171      -0.899\n",
       "ar.L3         -0.1527      0.090     -1.694      0.090      -0.329       0.024\n",
       "ar.L4         -0.0342      0.075     -0.456      0.648      -0.181       0.112\n",
       "ar.L5         -0.1520      0.063     -2.415      0.016      -0.275      -0.029\n",
       "ma.L1         -0.7574      0.021    -35.707      0.000      -0.799      -0.716\n",
       "ma.L2          0.9883      0.040     25.017      0.000       0.911       1.066\n",
       "sigma2         5.0032      0.315     15.881      0.000       4.386       5.621\n",
       "===================================================================================\n",
       "Ljung-Box (L1) (Q):                   0.00   Jarque-Bera (JB):               106.07\n",
       "Prob(Q):                              0.95   Prob(JB):                         0.00\n",
       "Heteroskedasticity (H):               1.16   Skew:                             0.25\n",
       "Prob(H) (two-sided):                  0.46   Kurtosis:                         5.93\n",
       "===================================================================================\n",
       "\n",
       "Warnings:\n",
       "[1] Covariance matrix calculated using the outer product of gradients (complex-step).\n",
       "\"\"\""
      ]
     },
     "execution_count": 56,
     "metadata": {},
     "output_type": "execute_result"
    }
   ],
   "source": [
    "model=ARIMA(train[\"temperature\"],order=(5,1,2))\n",
    "model=model.fit()\n",
    "model.summary()"
   ]
  },
  {
   "cell_type": "code",
   "execution_count": 57,
   "metadata": {},
   "outputs": [
    {
     "data": {
      "text/plain": [
       "<Axes: xlabel='time'>"
      ]
     },
     "execution_count": 57,
     "metadata": {},
     "output_type": "execute_result"
    },
    {
     "data": {
      "image/png": "[encoded data removed]",
      "text/plain": [
       "<Figure size 640x480 with 1 Axes>"
      ]
     },
     "metadata": {},
     "output_type": "display_data"
    }
   ],
   "source": [
    "start=len(train)\n",
    "end=len(train)+len(test)-1\n",
    "pred=model.predict(start=start,end=end,typ='levels').rename('ARIMA Predictions')\n",
    "pred.index=daily_average.index[start:end+1]\n",
    "pred.plot(legend=True)\n",
    "test['temperature'].plot(legend=True)\n"
   ]
  },
  {
   "cell_type": "code",
   "execution_count": 58,
   "metadata": {},
   "outputs": [
    {
     "name": "stdout",
     "output_type": "stream",
     "text": [
      "1.860032093906667\n"
     ]
    }
   ],
   "source": [
    "from sklearn.metrics import mean_squared_error\n",
    "from math import sqrt\n",
    "test['temperature'].mean()\n",
    "rmse=sqrt(mean_squared_error(pred,test['temperature']))\n",
    "print(rmse)"
   ]
  },
  {
   "cell_type": "code",
   "execution_count": 59,
   "metadata": {},
   "outputs": [
    {
     "data": {
      "text/plain": [
       "12.950460933869774"
      ]
     },
     "execution_count": 59,
     "metadata": {},
     "output_type": "execute_result"
    }
   ],
   "source": [
    "daily_average.temperature.mean()"
   ]
  },
  {
   "cell_type": "markdown",
   "metadata": {},
   "source": [
    "### FÜR ARIMA SOLLTEN DIE DATEN AUF STUNDENEBENE ODER VLLT SOGAR TAGESEBENE REDUZIERT WERDEN"
   ]
  },
  {
   "cell_type": "markdown",
   "metadata": {},
   "source": []
  }
 ],
 "metadata": {
  "kernelspec": {
   "display_name": "base",
   "language": "python",
   "name": "python3"
  },
  "language_info": {
   "codemirror_mode": {
    "name": "ipython",
    "version": 3
   },
   "file_extension": ".py",
   "mimetype": "text/x-python",
   "name": "python",
   "nbconvert_exporter": "python",
   "pygments_lexer": "ipython3",
   "version": "3.11.5"
  }
 },
 "nbformat": 4,
 "nbformat_minor": 2
}
