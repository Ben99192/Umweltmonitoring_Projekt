{
 "cells": [
  {
   "cell_type": "code",
   "execution_count": 1,
   "metadata": {},
   "outputs": [
    {
     "data": {
      "text/plain": [
       "True"
      ]
     },
     "execution_count": 1,
     "metadata": {},
     "output_type": "execute_result"
    }
   ],
   "source": [
    "import requests\n",
    "import time\n",
    "import pandas as pd\n",
    "import numpy as np\n",
    "import psycopg2\n",
    "import sqlalchemy\n",
    "from dotenv import load_dotenv\n",
    "import os\n",
    "import pandas as pd\n",
    "from sklearn.ensemble import RandomForestRegressor\n",
    "from sklearn.model_selection import train_test_split\n",
    "from sklearn.metrics import mean_squared_error, mean_absolute_error, r2_score\n",
    "from sklearn.preprocessing import OneHotEncoder\n",
    "from sklearn.compose import ColumnTransformer\n",
    "from sklearn.pipeline import Pipeline\n",
    "\n",
    "load_dotenv()"
   ]
  },
  {
   "cell_type": "markdown",
   "metadata": {},
   "source": [
    "### Verbindung zur Datenbank aufbauen und Daten aus der Tabelle laden"
   ]
  },
  {
   "cell_type": "code",
   "execution_count": 2,
   "metadata": {},
   "outputs": [],
   "source": [
    "host = os.getenv('HOST')\n",
    "port = os.getenv('PORT')\n",
    "user = os.getenv('USER')\n",
    "password = os.getenv('PASSWORD')\n",
    "database= os.getenv('DATABASE')"
   ]
  },
  {
   "cell_type": "code",
   "execution_count": 3,
   "metadata": {},
   "outputs": [
    {
     "name": "stdout",
     "output_type": "stream",
     "text": [
      "Verbindung zur Datenbank erfolgreich hergestellt.\n"
     ]
    }
   ],
   "source": [
    "# Verbindung zur Datenbank herstellen\n",
    "connection = psycopg2.connect(host=host, port=port, database=database, user=user, password=password)\n",
    "print(\"Verbindung zur Datenbank erfolgreich hergestellt.\")\n",
    "\n",
    "# Einen Cursor erstellen, um SQL-Abfragen auszuführen\n",
    "cursor = connection.cursor()\n",
    "\n",
    "# SQL SELECT-Abfrage\n",
    "select_query = \"SELECT * FROM value;\"\n",
    "\n",
    "# Abfrage ausführen\n",
    "cursor.execute(select_query)\n",
    "\n",
    "# Ergebnis abrufen\n",
    "rows = cursor.fetchall()\n",
    "\n",
    "# Ergebnis in ein Pandas DataFrame umwandeln\n",
    "df = pd.DataFrame(rows, columns=[desc[0] for desc in cursor.description])\n",
    "\n",
    "# Cursor und Verbindung schließen\n",
    "cursor.close()\n",
    "connection.close()\n"
   ]
  },
  {
   "cell_type": "code",
   "execution_count": 4,
   "metadata": {},
   "outputs": [],
   "source": [
    "df_new = df"
   ]
  },
  {
   "cell_type": "markdown",
   "metadata": {},
   "source": [
    "### Random Forest Modell"
   ]
  },
  {
   "cell_type": "code",
   "execution_count": 5,
   "metadata": {},
   "outputs": [],
   "source": [
    "# 1. Convert the time column to datetime objects\n",
    "df['time'] = pd.to_datetime(df['time'])\n",
    "\n",
    "# 2. Feature Engineering with Lags\n",
    "lags = [1, 2, 3]  # Lags for 10, 20, and 30 minutes\n",
    "for lag in lags:\n",
    "    df[f'Temperatur_lag_{lag*10}'] = df.groupby('senseid_fk')['temperature'].shift(lag)\n",
    "\n",
    "# 3. Create target variables for each prediction horizon\n",
    "for minutes in [10, 20, 30]:\n",
    "    shift = minutes // 10  # Calculate the shift based on 10-minute intervals\n",
    "    df[f'Temperatur_in_{minutes}_Minuten'] = df.groupby('senseid_fk')['temperature'].shift(-shift)\n",
    "\n",
    "# 4. Remove rows with missing values (introduced by lagging and shifting)\n",
    "df.dropna(inplace=True)"
   ]
  },
  {
   "cell_type": "code",
   "execution_count": 6,
   "metadata": {},
   "outputs": [
    {
     "name": "stdout",
     "output_type": "stream",
     "text": [
      "\n",
      "Temperatur_in_10_Minuten:\n",
      "  Mean Squared Error: 0.13823168291792626\n",
      "  Mean Absolute Error: 0.11765488398884175\n",
      "  R^2 Score: 0.998341611408165\n",
      "\n",
      "Temperatur_in_20_Minuten:\n",
      "  Mean Squared Error: 0.27475684100421754\n",
      "  Mean Absolute Error: 0.18680818969057736\n",
      "  R^2 Score: 0.9967049032039207\n",
      "\n",
      "Temperatur_in_30_Minuten:\n",
      "  Mean Squared Error: 0.4070045273572283\n",
      "  Mean Absolute Error: 0.2464608002963044\n",
      "  R^2 Score: 0.9951192871241138\n"
     ]
    }
   ],
   "source": [
    "# 5. Define target variables and create a dictionary for models\n",
    "target_variables = ['Temperatur_in_10_Minuten', 'Temperatur_in_20_Minuten', 'Temperatur_in_30_Minuten']\n",
    "models = {}\n",
    "\n",
    "# 6. Train and evaluate models for each target variable\n",
    "for target in target_variables:\n",
    "    # 6.1. Select features and target variable\n",
    "    X = df.drop(target_variables + [\"time\",\"index\"], axis=1)\n",
    "    y = df[target]\n",
    "    \n",
    "    # 6.2. Split data into training and testing sets\n",
    "    X_train, X_test, y_train, y_test = train_test_split(X, y, test_size=0.2, random_state=42)\n",
    "    \n",
    "    # 6.3. Define the preprocessing for the 'senseid_fk' column\n",
    "    preprocessor = ColumnTransformer(\n",
    "        transformers=[\n",
    "            ('cat', OneHotEncoder(handle_unknown='ignore'), ['senseid_fk'])\n",
    "        ],\n",
    "        remainder='passthrough'\n",
    "    )\n",
    "    \n",
    "    # 6.4. Create the pipeline with preprocessing and model training\n",
    "    pipeline = Pipeline(steps=[\n",
    "        ('preprocessor', preprocessor),\n",
    "        ('model', RandomForestRegressor(n_estimators=350, max_depth=55, random_state=42, n_jobs=-1))\n",
    "    ])\n",
    "    \n",
    "    # 6.5. Train the model\n",
    "    pipeline.fit(X_train, y_train)\n",
    "    \n",
    "    # 6.6. Make predictions and evaluate\n",
    "    y_pred = pipeline.predict(X_test)\n",
    "    mse = mean_squared_error(y_test, y_pred)\n",
    "    mae = mean_absolute_error(y_test, y_pred)\n",
    "    r2 = r2_score(y_test, y_pred)\n",
    "    print(f\"\\n{target}:\")\n",
    "    print(f\"  Mean Squared Error: {mse}\")\n",
    "    print(f\"  Mean Absolute Error: {mae}\")\n",
    "    print(f\"  R^2 Score: {r2}\")\n",
    "    \n",
    "    # 6.7. Store the trained model\n",
    "    models[target] = pipeline"
   ]
  },
  {
   "cell_type": "markdown",
   "metadata": {},
   "source": [
    "### predictions"
   ]
  },
  {
   "cell_type": "code",
   "execution_count": 11,
   "metadata": {},
   "outputs": [
    {
     "name": "stdout",
     "output_type": "stream",
     "text": [
      "Verbindung zur Datenbank erfolgreich hergestellt.\n"
     ]
    }
   ],
   "source": [
    "# Verbindung zur Datenbank herstellen\n",
    "connection = psycopg2.connect(host=host, port=port, database=database, user=user, password=password)\n",
    "print(\"Verbindung zur Datenbank erfolgreich hergestellt.\")\n",
    "\n",
    "# Einen Cursor erstellen, um SQL-Abfragen auszuführen\n",
    "cursor = connection.cursor()\n",
    "\n",
    "# SQL SELECT-Abfrage\n",
    "select_query = \"\"\"\n",
    "    SELECT *\n",
    "    FROM (\n",
    "        SELECT *, ROW_NUMBER() OVER (PARTITION BY senseid_fk ORDER BY time DESC) AS r\n",
    "        FROM value\n",
    "    ) sub\n",
    "    WHERE r <= 4;\n",
    "\"\"\"\n",
    "\n",
    "# Abfrage ausführen\n",
    "cursor.execute(select_query)\n",
    "\n",
    "# Ergebnis abrufen\n",
    "rows = cursor.fetchall()\n",
    "\n",
    "# Ergebnis in ein Pandas DataFrame umwandeln\n",
    "df_new = pd.DataFrame(rows, columns=[desc[0] for desc in cursor.description])\n",
    "\n",
    "# Cursor und Verbindung schließen\n",
    "cursor.close()\n",
    "connection.close()\n"
   ]
  },
  {
   "cell_type": "code",
   "execution_count": 12,
   "metadata": {},
   "outputs": [
    {
     "data": {
      "text/html": [
       "<div>\n",
       "<style scoped>\n",
       "    .dataframe tbody tr th:only-of-type {\n",
       "        vertical-align: middle;\n",
       "    }\n",
       "\n",
       "    .dataframe tbody tr th {\n",
       "        vertical-align: top;\n",
       "    }\n",
       "\n",
       "    .dataframe thead th {\n",
       "        text-align: right;\n",
       "    }\n",
       "</style>\n",
       "<table border=\"1\" class=\"dataframe\">\n",
       "  <thead>\n",
       "    <tr style=\"text-align: right;\">\n",
       "      <th></th>\n",
       "      <th>index</th>\n",
       "      <th>time</th>\n",
       "      <th>temperature</th>\n",
       "      <th>luftfeuchtigkeit</th>\n",
       "      <th>pm10</th>\n",
       "      <th>pm2_5</th>\n",
       "      <th>senseid_fk</th>\n",
       "      <th>r</th>\n",
       "    </tr>\n",
       "  </thead>\n",
       "  <tbody>\n",
       "    <tr>\n",
       "      <th>0</th>\n",
       "      <td>1715125</td>\n",
       "      <td>2024-06-08 13:40:09</td>\n",
       "      <td>26.9</td>\n",
       "      <td>80.2</td>\n",
       "      <td>8.30</td>\n",
       "      <td>7.47</td>\n",
       "      <td>590e0b0a51d3460011c725c4</td>\n",
       "      <td>1</td>\n",
       "    </tr>\n",
       "    <tr>\n",
       "      <th>1</th>\n",
       "      <td>1715117</td>\n",
       "      <td>2024-06-08 13:30:07</td>\n",
       "      <td>28.0</td>\n",
       "      <td>80.9</td>\n",
       "      <td>6.87</td>\n",
       "      <td>6.20</td>\n",
       "      <td>590e0b0a51d3460011c725c4</td>\n",
       "      <td>2</td>\n",
       "    </tr>\n",
       "    <tr>\n",
       "      <th>2</th>\n",
       "      <td>1715109</td>\n",
       "      <td>2024-06-08 13:20:08</td>\n",
       "      <td>26.8</td>\n",
       "      <td>81.5</td>\n",
       "      <td>7.23</td>\n",
       "      <td>6.50</td>\n",
       "      <td>590e0b0a51d3460011c725c4</td>\n",
       "      <td>3</td>\n",
       "    </tr>\n",
       "    <tr>\n",
       "      <th>3</th>\n",
       "      <td>1715101</td>\n",
       "      <td>2024-06-08 13:10:08</td>\n",
       "      <td>29.0</td>\n",
       "      <td>79.8</td>\n",
       "      <td>8.43</td>\n",
       "      <td>7.03</td>\n",
       "      <td>590e0b0a51d3460011c725c4</td>\n",
       "      <td>4</td>\n",
       "    </tr>\n",
       "    <tr>\n",
       "      <th>4</th>\n",
       "      <td>1715120</td>\n",
       "      <td>2024-06-08 13:40:07</td>\n",
       "      <td>26.3</td>\n",
       "      <td>54.6</td>\n",
       "      <td>4.93</td>\n",
       "      <td>4.30</td>\n",
       "      <td>5ae4a726223bd80019a367a6</td>\n",
       "      <td>1</td>\n",
       "    </tr>\n",
       "  </tbody>\n",
       "</table>\n",
       "</div>"
      ],
      "text/plain": [
       "     index                time  temperature  luftfeuchtigkeit  pm10  pm2_5  \\\n",
       "0  1715125 2024-06-08 13:40:09         26.9              80.2  8.30   7.47   \n",
       "1  1715117 2024-06-08 13:30:07         28.0              80.9  6.87   6.20   \n",
       "2  1715109 2024-06-08 13:20:08         26.8              81.5  7.23   6.50   \n",
       "3  1715101 2024-06-08 13:10:08         29.0              79.8  8.43   7.03   \n",
       "4  1715120 2024-06-08 13:40:07         26.3              54.6  4.93   4.30   \n",
       "\n",
       "                 senseid_fk  r  \n",
       "0  590e0b0a51d3460011c725c4  1  \n",
       "1  590e0b0a51d3460011c725c4  2  \n",
       "2  590e0b0a51d3460011c725c4  3  \n",
       "3  590e0b0a51d3460011c725c4  4  \n",
       "4  5ae4a726223bd80019a367a6  1  "
      ]
     },
     "execution_count": 12,
     "metadata": {},
     "output_type": "execute_result"
    }
   ],
   "source": [
    "df_new.head()"
   ]
  },
  {
   "cell_type": "code",
   "execution_count": 13,
   "metadata": {},
   "outputs": [],
   "source": [
    "# Zeitspalte in datetime-Objekte umwandeln\n",
    "df_new['time'] = pd.to_datetime(df_new['time'])\n",
    "\n",
    "# Berechne die Lags für die neuen Daten\n",
    "lags = [1, 2, 3]  # Lags für 10, 20 und 30 Minuten\n",
    "for lag in lags:\n",
    "    df_new[f'Temperatur_lag_{lag*10}'] = df_new.groupby('senseid_fk')['temperature'].shift(lag)\n",
    "\n",
    "# Fehlende Werte durch geeignete Werte ersetzen, falls notwendig\n",
    "#df_all.fillna(method='ffill', inplace=True)\n",
    "\n",
    "# Liste der einzigartigen Stationen\n",
    "stations = df_new['senseid_fk'].unique()\n",
    "\n",
    "# Dictionary zum Speichern der Vorhersagen für jede Station\n",
    "all_predictions = {}\n",
    "\n",
    "for station in stations:\n",
    "    # Daten für die aktuelle Station auswählen\n",
    "    df_station = df_new[df_new['senseid_fk'] == station]\n",
    "    \n",
    "    # Neueste Zeile für Vorhersagen auswählen\n",
    "    latest_row = df_station.iloc[[-1]]\n",
    "    \n",
    "    # Vorhersagen treffen\n",
    "    predictions = {}\n",
    "    for target in target_variables:\n",
    "        model = models[target]\n",
    "        # Die Features für das Modell auswählen (identisch zu den Trainingsdaten)\n",
    "        X_new = latest_row.drop(target_variables + [\"time\", \"index\"], axis=1, errors='ignore')\n",
    "        \n",
    "        # Vorhersage durchführen\n",
    "        prediction = model.predict(X_new)\n",
    "        predictions[target] = prediction[0]\n",
    "    \n",
    "    # Ergebnisse für die aktuelle Station speichern\n",
    "    all_predictions[station] = predictions\n",
    "\n",
    "# Ergebnisse in ein DataFrame umwandeln\n",
    "df_predictions = pd.DataFrame(all_predictions)"
   ]
  },
  {
   "cell_type": "code",
   "execution_count": 14,
   "metadata": {},
   "outputs": [
    {
     "data": {
      "text/html": [
       "<div>\n",
       "<style scoped>\n",
       "    .dataframe tbody tr th:only-of-type {\n",
       "        vertical-align: middle;\n",
       "    }\n",
       "\n",
       "    .dataframe tbody tr th {\n",
       "        vertical-align: top;\n",
       "    }\n",
       "\n",
       "    .dataframe thead th {\n",
       "        text-align: right;\n",
       "    }\n",
       "</style>\n",
       "<table border=\"1\" class=\"dataframe\">\n",
       "  <thead>\n",
       "    <tr style=\"text-align: right;\">\n",
       "      <th></th>\n",
       "      <th>Hamburg</th>\n",
       "      <th>Mersch</th>\n",
       "      <th>München</th>\n",
       "      <th>Stuttgart</th>\n",
       "      <th>Ettlingen</th>\n",
       "      <th>Dortmund</th>\n",
       "      <th>Jena</th>\n",
       "      <th>Berlin</th>\n",
       "    </tr>\n",
       "  </thead>\n",
       "  <tbody>\n",
       "    <tr>\n",
       "      <th>Temperatur_in_10_Minuten</th>\n",
       "      <td>30.246343</td>\n",
       "      <td>25.890571</td>\n",
       "      <td>19.545657</td>\n",
       "      <td>34.094800</td>\n",
       "      <td>29.702429</td>\n",
       "      <td>22.759875</td>\n",
       "      <td>28.109086</td>\n",
       "      <td>29.311629</td>\n",
       "    </tr>\n",
       "    <tr>\n",
       "      <th>Temperatur_in_20_Minuten</th>\n",
       "      <td>29.544457</td>\n",
       "      <td>25.788857</td>\n",
       "      <td>19.181171</td>\n",
       "      <td>34.331914</td>\n",
       "      <td>29.547600</td>\n",
       "      <td>22.740178</td>\n",
       "      <td>28.013200</td>\n",
       "      <td>29.247029</td>\n",
       "    </tr>\n",
       "    <tr>\n",
       "      <th>Temperatur_in_30_Minuten</th>\n",
       "      <td>29.419486</td>\n",
       "      <td>25.804400</td>\n",
       "      <td>19.327029</td>\n",
       "      <td>34.471800</td>\n",
       "      <td>29.494571</td>\n",
       "      <td>22.729926</td>\n",
       "      <td>28.287429</td>\n",
       "      <td>29.231457</td>\n",
       "    </tr>\n",
       "  </tbody>\n",
       "</table>\n",
       "</div>"
      ],
      "text/plain": [
       "                            Hamburg     Mersch    München  Stuttgart  \\\n",
       "Temperatur_in_10_Minuten  30.246343  25.890571  19.545657  34.094800   \n",
       "Temperatur_in_20_Minuten  29.544457  25.788857  19.181171  34.331914   \n",
       "Temperatur_in_30_Minuten  29.419486  25.804400  19.327029  34.471800   \n",
       "\n",
       "                          Ettlingen   Dortmund       Jena     Berlin  \n",
       "Temperatur_in_10_Minuten  29.702429  22.759875  28.109086  29.311629  \n",
       "Temperatur_in_20_Minuten  29.547600  22.740178  28.013200  29.247029  \n",
       "Temperatur_in_30_Minuten  29.494571  22.729926  28.287429  29.231457  "
      ]
     },
     "execution_count": 14,
     "metadata": {},
     "output_type": "execute_result"
    }
   ],
   "source": [
    "# Ergebnisse anzeigen\n",
    "df_predictions.rename(columns={\"5ae4a726223bd80019a367a6\":\"Mersch\",\n",
    "                      \"5dde9523ba7944001da4150e\":\"Ettlingen\",\n",
    "                      \"5c08379b1c28f9001a3f580c\":\"Stuttgart\",\n",
    "                      \"5b4d11485dc1ec001b5452c7\":\"München\",\n",
    "                      \"65e8d93acbf5700007f920ca\":\"Berlin\",\n",
    "                      \"590e0b0a51d3460011c725c4\":\"Hamburg\",\n",
    "                      \"605f498077a88b001bba3dc0\":\"Dortmund\",\n",
    "                      \"64722d1c9be0580007f776d9\":\"Jena\"}, inplace=True)\n",
    "\n",
    "df_predictions"
   ]
  },
  {
   "cell_type": "code",
   "execution_count": null,
   "metadata": {},
   "outputs": [],
   "source": []
  }
 ],
 "metadata": {
  "kernelspec": {
   "display_name": "base",
   "language": "python",
   "name": "python3"
  },
  "language_info": {
   "codemirror_mode": {
    "name": "ipython",
    "version": 3
   },
   "file_extension": ".py",
   "mimetype": "text/x-python",
   "name": "python",
   "nbconvert_exporter": "python",
   "pygments_lexer": "ipython3",
   "version": "3.11.7"
  }
 },
 "nbformat": 4,
 "nbformat_minor": 2
}
