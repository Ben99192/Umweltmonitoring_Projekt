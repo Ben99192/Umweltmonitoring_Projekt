{
 "cells": [
  {
   "cell_type": "code",
   "execution_count": 2,
   "metadata": {},
   "outputs": [
    {
     "data": {
      "text/plain": [
       "True"
      ]
     },
     "execution_count": 2,
     "metadata": {},
     "output_type": "execute_result"
    }
   ],
   "source": [
    "import requests\n",
    "import time\n",
    "import pandas as pd\n",
    "import numpy as np\n",
    "import psycopg2\n",
    "import sqlalchemy\n",
    "from dotenv import load_dotenv\n",
    "import os\n",
    "\n",
    "load_dotenv()"
   ]
  },
  {
   "cell_type": "markdown",
   "metadata": {},
   "source": [
    "### Verbindung zur Datenbank aufbauen und Daten aus der Tabelle laden"
   ]
  },
  {
   "cell_type": "code",
   "execution_count": 3,
   "metadata": {},
   "outputs": [],
   "source": [
    "host = os.getenv('HOST')\n",
    "port = os.getenv('PORT')\n",
    "user = os.getenv('USER')\n",
    "password = os.getenv('PASSWORD')\n",
    "database= os.getenv('DATABASE')"
   ]
  },
  {
   "cell_type": "code",
   "execution_count": 4,
   "metadata": {},
   "outputs": [
    {
     "name": "stdout",
     "output_type": "stream",
     "text": [
      "Verbindung zur Datenbank erfolgreich hergestellt.\n"
     ]
    }
   ],
   "source": [
    "# Verbindung zur Datenbank herstellen\n",
    "connection = psycopg2.connect(host=host, port=port, database=database, user=user, password=password)\n",
    "print(\"Verbindung zur Datenbank erfolgreich hergestellt.\")\n",
    "\n",
    "# Einen Cursor erstellen, um SQL-Abfragen auszuführen\n",
    "cursor = connection.cursor()\n",
    "\n",
    "# SQL SELECT-Abfrage\n",
    "select_query = \"SELECT * FROM value;\"\n",
    "\n",
    "# Abfrage ausführen\n",
    "cursor.execute(select_query)\n",
    "\n",
    "# Ergebnis abrufen\n",
    "rows = cursor.fetchall()\n",
    "\n",
    "# Ergebnis in ein Pandas DataFrame umwandeln\n",
    "df = pd.DataFrame(rows, columns=[desc[0] for desc in cursor.description])\n",
    "\n",
    "# Cursor und Verbindung schließen\n",
    "cursor.close()\n",
    "connection.close()\n"
   ]
  },
  {
   "cell_type": "markdown",
   "metadata": {},
   "source": [
    "### Random Forest Modell"
   ]
  },
  {
   "cell_type": "code",
   "execution_count": 5,
   "metadata": {},
   "outputs": [],
   "source": [
    "import pandas as pd\n",
    "from sklearn.ensemble import RandomForestRegressor\n",
    "from sklearn.model_selection import train_test_split\n",
    "from sklearn.metrics import mean_squared_error, mean_absolute_error\n",
    "\n",
    "\n",
    "# 1. Convert the time column to datetime objects\n",
    "df['time'] = pd.to_datetime(df['time'])\n",
    "\n",
    "# 2. Feature Engineering with Lags\n",
    "lags = [1, 2, 3]  # Lags for 10, 20, and 30 minutes\n",
    "for lag in lags:\n",
    "    df[f'Temperatur_lag_{lag*10}'] = df.groupby('senseid_fk')['temperature'].shift(lag)\n",
    "\n",
    "# 3. Create target variables for each prediction horizon\n",
    "for minutes in [10, 20, 30]:\n",
    "    shift = minutes // 10  # Calculate the shift based on 10-minute intervals\n",
    "    df[f'Temperatur_in_{minutes}_Minuten'] = df.groupby('senseid_fk')['temperature'].shift(-shift)\n",
    "\n",
    "# 4. Remove rows with missing values (introduced by lagging and shifting)\n",
    "df.dropna(inplace=True)"
   ]
  },
  {
   "cell_type": "code",
   "execution_count": 8,
   "metadata": {},
   "outputs": [
    {
     "name": "stdout",
     "output_type": "stream",
     "text": [
      "\n",
      "Temperatur_in_10_Minuten:\n",
      "  Mean Squared Error: 0.6959775182910382\n",
      "  Mean Absolute Error: 0.29405328315365437\n",
      "\n",
      "Temperatur_in_20_Minuten:\n",
      "  Mean Squared Error: 1.1561430452437964\n",
      "  Mean Absolute Error: 0.42871305138224786\n",
      "\n",
      "Temperatur_in_30_Minuten:\n",
      "  Mean Squared Error: 1.5624276179679655\n",
      "  Mean Absolute Error: 0.5264186126191158\n"
     ]
    }
   ],
   "source": [
    "# 5. Define target variables and create a dictionary for models\n",
    "target_variables = ['Temperatur_in_10_Minuten', 'Temperatur_in_20_Minuten', 'Temperatur_in_30_Minuten']\n",
    "models = {}\n",
    "\n",
    "# 6. Train and evaluate models for each target variable\n",
    "for target in target_variables:\n",
    "    # 6.1. Select features and target variable\n",
    "    X = df.drop(target_variables + [\"time\", \"senseid_fk\"], axis=1)\n",
    "    y = df[target]\n",
    "\n",
    "    # 6.2. Split data into training and testing sets\n",
    "    X_train, X_test, y_train, y_test = train_test_split(X, y, test_size=0.2, random_state=42)\n",
    "\n",
    "    # 6.3. Create and train the Random Forest model\n",
    "    model = RandomForestRegressor(n_estimators=400,max_depth=40, random_state=42)\n",
    "    model.fit(X_train, y_train)\n",
    "\n",
    "    # 6.4. Make predictions and evaluate\n",
    "    y_pred = model.predict(X_test)\n",
    "    mse = mean_squared_error(y_test, y_pred)\n",
    "    mae = mean_absolute_error(y_test, y_pred)\n",
    "    print(f\"\\n{target}:\")\n",
    "    print(f\"  Mean Squared Error: {mse}\")\n",
    "    print(f\"  Mean Absolute Error: {mae}\")\n",
    "\n",
    "    # 6.5. Store the trained model\n",
    "    models[target] = model"
   ]
  },
  {
   "cell_type": "markdown",
   "metadata": {},
   "source": [
    "### Mit GridSearch und CV"
   ]
  },
  {
   "cell_type": "code",
   "execution_count": null,
   "metadata": {},
   "outputs": [
    {
     "name": "stdout",
     "output_type": "stream",
     "text": [
      "\n",
      "Temperatur_in_10_Minuten:\n",
      "  Best Parameters: {'max_depth': 30, 'min_samples_leaf': 1, 'min_samples_split': 2, 'n_estimators': 200}\n",
      "  Mean Squared Error: 0.7231009365555813\n",
      "  Mean Absolute Error: 0.29696808916272927\n",
      "\n",
      "Temperatur_in_20_Minuten:\n",
      "  Best Parameters: {'max_depth': 30, 'min_samples_leaf': 1, 'min_samples_split': 2, 'n_estimators': 200}\n",
      "  Mean Squared Error: 1.1219574791632885\n",
      "  Mean Absolute Error: 0.4293155597508828\n",
      "\n",
      "Temperatur_in_30_Minuten:\n",
      "  Best Parameters: {'max_depth': 30, 'min_samples_leaf': 1, 'min_samples_split': 2, 'n_estimators': 200}\n",
      "  Mean Squared Error: 1.3734161227737929\n",
      "  Mean Absolute Error: 0.5241237983584991\n"
     ]
    }
   ],
   "source": [
    "# from sklearn.ensemble import RandomForestRegressor\n",
    "# from sklearn.model_selection import train_test_split, GridSearchCV\n",
    "# from sklearn.metrics import mean_squared_error, mean_absolute_error\n",
    "\n",
    "# # 5. Define target variables and create a dictionary for models\n",
    "# target_variables = ['Temperatur_in_10_Minuten', 'Temperatur_in_20_Minuten', 'Temperatur_in_30_Minuten']\n",
    "# models = {}\n",
    "\n",
    "# # Hyperparameter grid for Random Forest\n",
    "# param_grid = {\n",
    "#     'n_estimators': [300, 400],\n",
    "#     'max_depth': [30, 40, 50, 60, 70],\n",
    "# }\n",
    "\n",
    "# # 6. Train and evaluate models for each target variable\n",
    "# for target in target_variables:\n",
    "#     # 6.1. Select features and target variable\n",
    "#     X = df.drop(target_variables + [\"time\", \"senseid_fk\"], axis=1)\n",
    "#     y = df[target]\n",
    "\n",
    "#     # 6.2. Split data into training and testing sets\n",
    "#     X_train, X_test, y_train, y_test = train_test_split(X, y, test_size=0.2, random_state=42)\n",
    "\n",
    "#     # 6.3. Perform GridSearchCV to find the best hyperparameters\n",
    "#     rf = RandomForestRegressor(random_state=42)\n",
    "#     grid_search = GridSearchCV(estimator=rf, param_grid=param_grid, cv=5, n_jobs=-1, scoring='neg_mean_squared_error')\n",
    "#     grid_search.fit(X_train, y_train)\n",
    "\n",
    "#     # 6.4. Get the best model from grid search\n",
    "#     best_model = grid_search.best_estimator_\n",
    "\n",
    "#     # 6.5. Make predictions and evaluate\n",
    "#     y_pred = best_model.predict(X_test)\n",
    "#     mse = mean_squared_error(y_test, y_pred)\n",
    "#     mae = mean_absolute_error(y_test, y_pred)\n",
    "#     print(f\"\\n{target}:\")\n",
    "#     print(f\"  Best Parameters: {grid_search.best_params_}\")\n",
    "#     print(f\"  Mean Squared Error: {mse}\")\n",
    "#     print(f\"  Mean Absolute Error: {mae}\")\n",
    "\n",
    "#     # 6.6. Store the trained model\n",
    "#     models[target] = best_model\n"
   ]
  }
 ],
 "metadata": {
  "kernelspec": {
   "display_name": "base",
   "language": "python",
   "name": "python3"
  },
  "language_info": {
   "codemirror_mode": {
    "name": "ipython",
    "version": 3
   },
   "file_extension": ".py",
   "mimetype": "text/x-python",
   "name": "python",
   "nbconvert_exporter": "python",
   "pygments_lexer": "ipython3",
   "version": "3.11.7"
  }
 },
 "nbformat": 4,
 "nbformat_minor": 2
}
